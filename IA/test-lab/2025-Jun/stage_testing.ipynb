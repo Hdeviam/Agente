{
 "cells": [
  {
   "cell_type": "markdown",
   "id": "449b2a05",
   "metadata": {},
   "source": [
    "# Stage Testing"
   ]
  },
  {
   "cell_type": "code",
   "execution_count": 2,
   "id": "d6896e02",
   "metadata": {},
   "outputs": [],
   "source": [
    "import sys\n",
    "import os\n",
    "\n",
    "# Ruta al proyecto (ajusta si estás en otra carpeta)\n",
    "project_root = os.path.abspath(os.path.join(os.getcwd(), '..'))\n",
    "sys.path.append(project_root)"
   ]
  },
  {
   "cell_type": "markdown",
   "id": "18fbf0ed",
   "metadata": {},
   "source": [
    "# 8-7-2025"
   ]
  },
  {
   "cell_type": "markdown",
   "id": "33cc9583",
   "metadata": {},
   "source": [
    "## Basics"
   ]
  },
  {
   "cell_type": "code",
   "execution_count": 2,
   "id": "b7e3879f",
   "metadata": {},
   "outputs": [],
   "source": [
    "from app.services.stages.stage_logic import get_chat_stage_metadata\n",
    "from app.core.aws_clients import get_dynamodb_client\n",
    "from app.services.dynamodb_queries import get_latests_messages, response_to_conversation\n",
    "from app.services.chatbot_engine import proccess_chat_turn"
   ]
  },
  {
   "cell_type": "code",
   "execution_count": 5,
   "id": "96c0469a",
   "metadata": {},
   "outputs": [],
   "source": [
    "dynamodb= get_dynamodb_client()"
   ]
  },
  {
   "cell_type": "code",
   "execution_count": 6,
   "id": "2e6731c9",
   "metadata": {},
   "outputs": [],
   "source": [
    "user_id = \"langchain-test-1\"\n",
    "conv_id = \"langchain-test-1\"\n",
    "primary_key = f\"USER#{user_id}#CONV#{conv_id}\""
   ]
  },
  {
   "cell_type": "code",
   "execution_count": 7,
   "id": "8b8866c1",
   "metadata": {},
   "outputs": [],
   "source": [
    "messages = get_latests_messages(dynamodb, primary_key, 10)"
   ]
  },
  {
   "cell_type": "code",
   "execution_count": 8,
   "id": "ca82f190",
   "metadata": {},
   "outputs": [
    {
     "data": {
      "text/plain": [
       "{'Items': [{'metadata': {'M': {}},\n",
       "   'SK': {'S': 'TIMESTAMP#2025-07-08T21:32:37.857423Z'},\n",
       "   'message': {'S': 'Gracias por la información. ¿Tiene preferencia por una zona específica en Lima? ¿Qué tan importante es el acceso a transporte público o centros comerciales para usted? Con esta información, podremos filtrar opciones que mejor se ajusten a sus necesidades.'},\n",
       "   'PK': {'S': 'USER#langchain-test-1#CONV#langchain-test-1'},\n",
       "   'role': {'S': 'assistant'}},\n",
       "  {'metadata': {'M': {}},\n",
       "   'SK': {'S': 'TIMESTAMP#2025-07-08T21:32:36.924046Z'},\n",
       "   'message': {'S': 'Pues prefiero un apartamento en algun condominio. No es necesario que tenga piscina. Mi presupuesto es de 2000 soles mensuales'},\n",
       "   'PK': {'S': 'USER#langchain-test-1#CONV#langchain-test-1'},\n",
       "   'role': {'S': 'user'}},\n",
       "  {'metadata': {'M': {}},\n",
       "   'SK': {'S': 'TIMESTAMP#2025-07-08T21:31:47.172809Z'},\n",
       "   'message': {'S': 'Excelente criterio. ¿Prefiere un apartamento en un edificio con servicios adicionales (piscina, gimnasio)? ¿Cuál es su presupuesto aproximado? ¿Hay algún otro requisito específico que tenga en mente?'},\n",
       "   'PK': {'S': 'USER#langchain-test-1#CONV#langchain-test-1'},\n",
       "   'role': {'S': 'assistant'}},\n",
       "  {'metadata': {'M': {}},\n",
       "   'SK': {'S': 'TIMESTAMP#2025-07-08T21:31:46.231917Z'},\n",
       "   'message': {'S': 'Estoy buscando un apartamento cerca a parques, en alguna zona segura de Lima'},\n",
       "   'PK': {'S': 'USER#langchain-test-1#CONV#langchain-test-1'},\n",
       "   'role': {'S': 'user'}},\n",
       "  {'metadata': {'M': {}},\n",
       "   'SK': {'S': 'TIMESTAMP#2025-07-08T21:30:52.268424Z'},\n",
       "   'message': {'S': '¿Qué tipo de propiedad busca? Considere ubicación, tipo (apartamento, casa, etc.), tamaño, presupuesto y características específicas (cerca de transporte, escuelas, parques, etc.) para que podamos encontrar la mejor opción para usted.'},\n",
       "   'PK': {'S': 'USER#langchain-test-1#CONV#langchain-test-1'},\n",
       "   'role': {'S': 'assistant'}},\n",
       "  {'metadata': {'M': {}},\n",
       "   'SK': {'S': 'TIMESTAMP#2025-07-08T21:30:51.281949Z'},\n",
       "   'message': {'S': 'Esto es una prueba con langchain'},\n",
       "   'PK': {'S': 'USER#langchain-test-1#CONV#langchain-test-1'},\n",
       "   'role': {'S': 'user'}},\n",
       "  {'metadata': {'M': {}},\n",
       "   'SK': {'S': 'TIMESTAMP#2025-07-08T21:13:18.770390Z'},\n",
       "   'message': {'S': 'Esto es una prueba con langchain'},\n",
       "   'PK': {'S': 'USER#langchain-test-1#CONV#langchain-test-1'},\n",
       "   'role': {'S': 'user'}}],\n",
       " 'Count': 7,\n",
       " 'ScannedCount': 7,\n",
       " 'ResponseMetadata': {'RequestId': '8ACMI0CIUOUM8BB5G2JTPH43M3VV4KQNSO5AEMVJF66Q9ASUAAJG',\n",
       "  'HTTPStatusCode': 200,\n",
       "  'HTTPHeaders': {'server': 'Server',\n",
       "   'date': 'Tue, 08 Jul 2025 22:29:29 GMT',\n",
       "   'content-type': 'application/x-amz-json-1.0',\n",
       "   'content-length': '2210',\n",
       "   'connection': 'keep-alive',\n",
       "   'x-amzn-requestid': '8ACMI0CIUOUM8BB5G2JTPH43M3VV4KQNSO5AEMVJF66Q9ASUAAJG',\n",
       "   'x-amz-crc32': '2947895486'},\n",
       "  'RetryAttempts': 0}}"
      ]
     },
     "execution_count": 8,
     "metadata": {},
     "output_type": "execute_result"
    }
   ],
   "source": [
    "messages"
   ]
  },
  {
   "cell_type": "code",
   "execution_count": 9,
   "id": "d9bf293e",
   "metadata": {},
   "outputs": [],
   "source": [
    "br_conversation = response_to_conversation(messages)"
   ]
  },
  {
   "cell_type": "code",
   "execution_count": 10,
   "id": "a85961c6",
   "metadata": {},
   "outputs": [
    {
     "data": {
      "text/plain": [
       "[{'role': 'user', 'content': [{'text': 'Esto es una prueba con langchain'}]},\n",
       " {'role': 'user', 'content': [{'text': 'Esto es una prueba con langchain'}]},\n",
       " {'role': 'assistant',\n",
       "  'content': [{'text': '¿Qué tipo de propiedad busca? Considere ubicación, tipo (apartamento, casa, etc.), tamaño, presupuesto y características específicas (cerca de transporte, escuelas, parques, etc.) para que podamos encontrar la mejor opción para usted.'}]},\n",
       " {'role': 'user',\n",
       "  'content': [{'text': 'Estoy buscando un apartamento cerca a parques, en alguna zona segura de Lima'}]},\n",
       " {'role': 'assistant',\n",
       "  'content': [{'text': 'Excelente criterio. ¿Prefiere un apartamento en un edificio con servicios adicionales (piscina, gimnasio)? ¿Cuál es su presupuesto aproximado? ¿Hay algún otro requisito específico que tenga en mente?'}]},\n",
       " {'role': 'user',\n",
       "  'content': [{'text': 'Pues prefiero un apartamento en algun condominio. No es necesario que tenga piscina. Mi presupuesto es de 2000 soles mensuales'}]},\n",
       " {'role': 'assistant',\n",
       "  'content': [{'text': 'Gracias por la información. ¿Tiene preferencia por una zona específica en Lima? ¿Qué tan importante es el acceso a transporte público o centros comerciales para usted? Con esta información, podremos filtrar opciones que mejor se ajusten a sus necesidades.'}]}]"
      ]
     },
     "execution_count": 10,
     "metadata": {},
     "output_type": "execute_result"
    }
   ],
   "source": [
    "br_conversation"
   ]
  },
  {
   "cell_type": "code",
   "execution_count": 5,
   "id": "a8d03089",
   "metadata": {},
   "outputs": [],
   "source": [
    "user_id = \"langchain-test-1\"\n",
    "conv_id = \"langchain-test-1\"\n",
    "primary_key = f\"USER#{user_id}#CONV#{conv_id}\""
   ]
  },
  {
   "cell_type": "code",
   "execution_count": 12,
   "id": "6a055298",
   "metadata": {},
   "outputs": [],
   "source": [
    "message = \"Pues prefiero un apartamento en algun condominio. No es necesario que tenga piscina. Mi presupuesto es de 2000 soles mensuales\""
   ]
  },
  {
   "cell_type": "code",
   "execution_count": 13,
   "id": "ef0723c9",
   "metadata": {},
   "outputs": [],
   "source": [
    "response = proccess_chat_turn(user_id, conv_id, message)"
   ]
  },
  {
   "cell_type": "code",
   "execution_count": 14,
   "id": "f0b21582",
   "metadata": {},
   "outputs": [
    {
     "data": {
      "text/plain": [
       "'Gracias por la información. ¿Tiene preferencia por una zona específica en Lima? ¿Qué tan importante es el acceso a transporte público o centros comerciales para usted? Con esta información, podremos filtrar opciones que mejor se ajusten a sus necesidades.'"
      ]
     },
     "execution_count": 14,
     "metadata": {},
     "output_type": "execute_result"
    }
   ],
   "source": [
    "response"
   ]
  },
  {
   "cell_type": "markdown",
   "id": "4f95648b",
   "metadata": {},
   "source": [
    "## structured output tests"
   ]
  },
  {
   "cell_type": "code",
   "execution_count": 2,
   "id": "406c98d0",
   "metadata": {},
   "outputs": [],
   "source": [
    "from app.services.stages.stage1_extract import get_lead, message_history_build, has_minimium_data"
   ]
  },
  {
   "cell_type": "code",
   "execution_count": 3,
   "id": "a244dc7a",
   "metadata": {},
   "outputs": [],
   "source": [
    "invalid_conversation = [{'role': 'user', 'content': [{'text': 'Esto es otro texto de prueba, sin contexto'}]},\n",
    "                        #{'role': 'user', 'content': [{'text': 'Quiero una propiedad en lima, con 3 baños, deseo alquilar. De preferencia con cercanía a centros comerciales'}]},\n",
    "                        {'role': 'user', 'content': [{'text': 'También quisiera llevar mascotas'}]},\n",
    "                        {'role': 'user', 'content': [{'text': 'Quisiera que fuera en san isidro, lima, peru'}]},\n",
    "                        {'role': 'user', 'content': [{'text': 'Si quiero un departamento, y deseo alquilar'}]}\n",
    "                        ]\n",
    "response = get_lead(invalid_conversation)"
   ]
  },
  {
   "cell_type": "code",
   "execution_count": 4,
   "id": "a413c34e",
   "metadata": {},
   "outputs": [
    {
     "data": {
      "text/plain": [
       "PropertyLead(ubicacion='san isidro, lima, peru', tipo_propiedad='departamento', transaccion='alquiler', presupuesto=None, numero_dormitorios=None, numero_banos=None, metraje_minimo=None, zona_preferida='san isidro, lima, peru', amenidades=None, pet_friendly=True)"
      ]
     },
     "execution_count": 4,
     "metadata": {},
     "output_type": "execute_result"
    }
   ],
   "source": [
    "response"
   ]
  },
  {
   "cell_type": "code",
   "execution_count": 12,
   "id": "6b48c1c6",
   "metadata": {},
   "outputs": [
    {
     "data": {
      "text/plain": [
       "True"
      ]
     },
     "execution_count": 12,
     "metadata": {},
     "output_type": "execute_result"
    }
   ],
   "source": [
    "has_minimium_data(response)"
   ]
  },
  {
   "cell_type": "markdown",
   "id": "35232a84",
   "metadata": {},
   "source": [
    "## LangChain Handling Tests "
   ]
  },
  {
   "cell_type": "code",
   "execution_count": 2,
   "id": "fd32b5d6",
   "metadata": {},
   "outputs": [],
   "source": [
    "from app.services.stages.stage1_extract import handle\n",
    "from app.services.stages.stage1_extract import get_missing_info, model_converse"
   ]
  },
  {
   "cell_type": "code",
   "execution_count": 9,
   "id": "99df9267",
   "metadata": {},
   "outputs": [],
   "source": [
    "conversation = [{'role': 'user', 'content': [{'text': 'Esto es otro texto de prueba, sin contexto'}]},\n",
    "                        {'role': 'user', 'content': [{'text': 'Quiero una propiedad en lima, con 3 baños, deseo alquilar. De preferencia con cercanía a centros comerciales'}]},\n",
    "                        {'role': 'user', 'content': [{'text': 'También quisiera llevar mascotas'}]},\n",
    "                        {'role': 'user', 'content': [{'text': 'Quisiera que fuera en san isidro, lima, peru'}]},\n",
    "                        #{'role': 'user', 'content': [{'text': 'Si quiero un departamento, y tengo un presupuesto de 2000 soles'}]}\n",
    "                        ]"
   ]
  },
  {
   "cell_type": "code",
   "execution_count": 10,
   "id": "52564dbe",
   "metadata": {},
   "outputs": [
    {
     "data": {
      "text/plain": [
       "[{'role': 'user',\n",
       "  'content': [{'text': 'Esto es otro texto de prueba, sin contexto'}]},\n",
       " {'role': 'user',\n",
       "  'content': [{'text': 'Quiero una propiedad en lima, con 3 baños, deseo alquilar. De preferencia con cercanía a centros comerciales'}]},\n",
       " {'role': 'user', 'content': [{'text': 'También quisiera llevar mascotas'}]},\n",
       " {'role': 'user',\n",
       "  'content': [{'text': 'Quisiera que fuera en san isidro, lima, peru'}]}]"
      ]
     },
     "execution_count": 10,
     "metadata": {},
     "output_type": "execute_result"
    }
   ],
   "source": [
    "conversation"
   ]
  },
  {
   "cell_type": "code",
   "execution_count": 11,
   "id": "618e028c",
   "metadata": {},
   "outputs": [
    {
     "data": {
      "text/plain": [
       "{'conversation': [{'role': 'user',\n",
       "   'content': [{'text': 'Esto es otro texto de prueba, sin contexto'}]},\n",
       "  {'role': 'user',\n",
       "   'content': [{'text': 'Quiero una propiedad en lima, con 3 baños, deseo alquilar. De preferencia con cercanía a centros comerciales'}]},\n",
       "  {'role': 'user', 'content': [{'text': 'También quisiera llevar mascotas'}]},\n",
       "  {'role': 'user',\n",
       "   'content': [{'text': 'Quisiera que fuera en san isidro, lima, peru'}]}],\n",
       " 'base_prompt': 'Simula ser un asesor inmobiliario que guía al usuario con preguntas para entender qué tipo de propiedad deseaNo respondas con recomendaciones aún. Sé breve pero cordial y amigable. (máx 50 palabras).Considera lo siguiente: Actualmente los datos faltantes son: {datos_faltantes}Los datos que podemos recolectar son los siguientes, tener en cuenta los campos requeridos, y los opcionales. Preguntar SOLAMENTE por los datos requeridos, puedes brindar información si consultan sobre campos opcionales: {data_info}Adicional: No respondas con palabras completamente escritas en mayúsculas, puede parecer que estás gritando al cliente',\n",
       " 'lead': PropertyLead(ubicacion='san isidro, lima, peru', tipo_propiedad=None, transaccion='alquiler', presupuesto=None, numero_dormitorios=None, numero_banos=3, metraje_minimo=None, zona_preferida='cercanía a centros comerciales', amenidades=None, pet_friendly=True),\n",
       " 'lead_verification': False,\n",
       " 'next_stage': False,\n",
       " 'missing_info': 'tipo_propiedad, presupuesto, numero_dormitorios, metraje_minimo, amenidades',\n",
       " 'final_prompt': 'Simula ser un asesor inmobiliario que guía al usuario con preguntas para entender qué tipo de propiedad deseaNo respondas con recomendaciones aún. Sé breve pero cordial y amigable. (máx 50 palabras).Considera lo siguiente: Actualmente los datos faltantes son: tipo_propiedad, presupuesto, numero_dormitorios, metraje_minimo, amenidadesLos datos que podemos recolectar son los siguientes, tener en cuenta los campos requeridos, y los opcionales. Preguntar SOLAMENTE por los datos requeridos, puedes brindar información si consultan sobre campos opcionales: ubicacion: REQUERIDO: Ubicación deseada como ciudad o distrito, etc\\ntipo_propiedad: REQUERIDO: casa, departamento, cuarto, oficina, terreno, etc\\ntransaccion: REQUERIDO: compra o alquiler\\npresupuesto: Presupuesto aproximado en dolares o soles\\nnumero_dormitorios: Cantidad mínima de dormitorios\\nnumero_banos: Número mínimo de baños.\\nmetraje_minimo: Área mínima en metros cuadrados\\nzona_preferida: Alguna zona preferida de la ciudad\\namenidades: Lista de amenidades deseadas.\\npet_friendly: Si necesita que acepten mascotas.Adicional: No respondas con palabras completamente escritas en mayúsculas, puede parecer que estás gritando al cliente',\n",
       " 'model_response': '¡Hola! Para ayudarte mejor, solo necesito algunos detalles más. ¿Qué tipo de propiedad buscas? ¿Y cuál es tu presupuesto aproximado para esta transacción? ¡Estoy aquí para asistirte!'}"
      ]
     },
     "execution_count": 11,
     "metadata": {},
     "output_type": "execute_result"
    }
   ],
   "source": [
    "response = handle(conversation)\n",
    "response"
   ]
  },
  {
   "cell_type": "code",
   "execution_count": 7,
   "id": "4918a166",
   "metadata": {},
   "outputs": [
    {
     "data": {
      "text/plain": [
       "[('user', 'Esto es otro texto de prueba, sin contexto')]"
      ]
     },
     "execution_count": 7,
     "metadata": {},
     "output_type": "execute_result"
    }
   ],
   "source": [
    "response['formatted_conversation']"
   ]
  },
  {
   "cell_type": "code",
   "execution_count": 6,
   "id": "bc72663d",
   "metadata": {},
   "outputs": [
    {
     "ename": "ValidationException",
     "evalue": "An error occurred (ValidationException) when calling the Converse operation: A conversation must start with a user message. Try again with a conversation that starts with a user message.",
     "output_type": "error",
     "traceback": [
      "\u001b[1;31m---------------------------------------------------------------------------\u001b[0m",
      "\u001b[1;31mValidationException\u001b[0m                       Traceback (most recent call last)",
      "Cell \u001b[1;32mIn[6], line 1\u001b[0m\n\u001b[1;32m----> 1\u001b[0m model_response \u001b[38;5;241m=\u001b[39m \u001b[43mmodel_converse\u001b[49m\u001b[43m(\u001b[49m\u001b[43mresponse\u001b[49m\u001b[43m[\u001b[49m\u001b[38;5;124;43m'\u001b[39;49m\u001b[38;5;124;43mfinal_prompt\u001b[39;49m\u001b[38;5;124;43m'\u001b[39;49m\u001b[43m]\u001b[49m\u001b[43m,\u001b[49m\u001b[43m \u001b[49m\u001b[43mresponse\u001b[49m\u001b[43m[\u001b[49m\u001b[38;5;124;43m'\u001b[39;49m\u001b[38;5;124;43mformatted_conversation\u001b[39;49m\u001b[38;5;124;43m'\u001b[39;49m\u001b[43m]\u001b[49m\u001b[43m)\u001b[49m\n",
      "File \u001b[1;32mf:\\DataScience\\Group Projects\\Housy\\housy-ia\\IA\\app\\services\\stages\\stage1_extract.py:86\u001b[0m, in \u001b[0;36mmodel_converse\u001b[1;34m(prompt, conversation)\u001b[0m\n\u001b[0;32m     84\u001b[0m chat \u001b[38;5;241m=\u001b[39m get_langchain_bedrock_client()                        \u001b[38;5;66;03m# client        \u001b[39;00m\n\u001b[0;32m     85\u001b[0m messages \u001b[38;5;241m=\u001b[39m   message_with_prompt_build(prompt, conversation) \u001b[38;5;66;03m# Message construction\u001b[39;00m\n\u001b[1;32m---> 86\u001b[0m response \u001b[38;5;241m=\u001b[39m \u001b[43mchat\u001b[49m\u001b[38;5;241;43m.\u001b[39;49m\u001b[43minvoke\u001b[49m\u001b[43m(\u001b[49m\u001b[43mmessages\u001b[49m\u001b[43m)\u001b[49m                             \u001b[38;5;66;03m# invoke model\u001b[39;00m\n\u001b[0;32m     87\u001b[0m \u001b[38;5;28;01mreturn\u001b[39;00m response\u001b[38;5;241m.\u001b[39mcontent\n",
      "File \u001b[1;32mf:\\DataScience\\Group Projects\\Housy\\housy-ia\\ia-env\\lib\\site-packages\\langchain_core\\language_models\\chat_models.py:378\u001b[0m, in \u001b[0;36mBaseChatModel.invoke\u001b[1;34m(self, input, config, stop, **kwargs)\u001b[0m\n\u001b[0;32m    366\u001b[0m \u001b[38;5;129m@override\u001b[39m\n\u001b[0;32m    367\u001b[0m \u001b[38;5;28;01mdef\u001b[39;00m\u001b[38;5;250m \u001b[39m\u001b[38;5;21minvoke\u001b[39m(\n\u001b[0;32m    368\u001b[0m     \u001b[38;5;28mself\u001b[39m,\n\u001b[1;32m   (...)\u001b[0m\n\u001b[0;32m    373\u001b[0m     \u001b[38;5;241m*\u001b[39m\u001b[38;5;241m*\u001b[39mkwargs: Any,\n\u001b[0;32m    374\u001b[0m ) \u001b[38;5;241m-\u001b[39m\u001b[38;5;241m>\u001b[39m BaseMessage:\n\u001b[0;32m    375\u001b[0m     config \u001b[38;5;241m=\u001b[39m ensure_config(config)\n\u001b[0;32m    376\u001b[0m     \u001b[38;5;28;01mreturn\u001b[39;00m cast(\n\u001b[0;32m    377\u001b[0m         \u001b[38;5;124m\"\u001b[39m\u001b[38;5;124mChatGeneration\u001b[39m\u001b[38;5;124m\"\u001b[39m,\n\u001b[1;32m--> 378\u001b[0m         \u001b[38;5;28mself\u001b[39m\u001b[38;5;241m.\u001b[39mgenerate_prompt(\n\u001b[0;32m    379\u001b[0m             [\u001b[38;5;28mself\u001b[39m\u001b[38;5;241m.\u001b[39m_convert_input(\u001b[38;5;28minput\u001b[39m)],\n\u001b[0;32m    380\u001b[0m             stop\u001b[38;5;241m=\u001b[39mstop,\n\u001b[0;32m    381\u001b[0m             callbacks\u001b[38;5;241m=\u001b[39mconfig\u001b[38;5;241m.\u001b[39mget(\u001b[38;5;124m\"\u001b[39m\u001b[38;5;124mcallbacks\u001b[39m\u001b[38;5;124m\"\u001b[39m),\n\u001b[0;32m    382\u001b[0m             tags\u001b[38;5;241m=\u001b[39mconfig\u001b[38;5;241m.\u001b[39mget(\u001b[38;5;124m\"\u001b[39m\u001b[38;5;124mtags\u001b[39m\u001b[38;5;124m\"\u001b[39m),\n\u001b[0;32m    383\u001b[0m             metadata\u001b[38;5;241m=\u001b[39mconfig\u001b[38;5;241m.\u001b[39mget(\u001b[38;5;124m\"\u001b[39m\u001b[38;5;124mmetadata\u001b[39m\u001b[38;5;124m\"\u001b[39m),\n\u001b[0;32m    384\u001b[0m             run_name\u001b[38;5;241m=\u001b[39mconfig\u001b[38;5;241m.\u001b[39mget(\u001b[38;5;124m\"\u001b[39m\u001b[38;5;124mrun_name\u001b[39m\u001b[38;5;124m\"\u001b[39m),\n\u001b[0;32m    385\u001b[0m             run_id\u001b[38;5;241m=\u001b[39mconfig\u001b[38;5;241m.\u001b[39mpop(\u001b[38;5;124m\"\u001b[39m\u001b[38;5;124mrun_id\u001b[39m\u001b[38;5;124m\"\u001b[39m, \u001b[38;5;28;01mNone\u001b[39;00m),\n\u001b[0;32m    386\u001b[0m             \u001b[38;5;241m*\u001b[39m\u001b[38;5;241m*\u001b[39mkwargs,\n\u001b[0;32m    387\u001b[0m         )\u001b[38;5;241m.\u001b[39mgenerations[\u001b[38;5;241m0\u001b[39m][\u001b[38;5;241m0\u001b[39m],\n\u001b[0;32m    388\u001b[0m     )\u001b[38;5;241m.\u001b[39mmessage\n",
      "File \u001b[1;32mf:\\DataScience\\Group Projects\\Housy\\housy-ia\\ia-env\\lib\\site-packages\\langchain_core\\language_models\\chat_models.py:963\u001b[0m, in \u001b[0;36mBaseChatModel.generate_prompt\u001b[1;34m(self, prompts, stop, callbacks, **kwargs)\u001b[0m\n\u001b[0;32m    954\u001b[0m \u001b[38;5;129m@override\u001b[39m\n\u001b[0;32m    955\u001b[0m \u001b[38;5;28;01mdef\u001b[39;00m\u001b[38;5;250m \u001b[39m\u001b[38;5;21mgenerate_prompt\u001b[39m(\n\u001b[0;32m    956\u001b[0m     \u001b[38;5;28mself\u001b[39m,\n\u001b[1;32m   (...)\u001b[0m\n\u001b[0;32m    960\u001b[0m     \u001b[38;5;241m*\u001b[39m\u001b[38;5;241m*\u001b[39mkwargs: Any,\n\u001b[0;32m    961\u001b[0m ) \u001b[38;5;241m-\u001b[39m\u001b[38;5;241m>\u001b[39m LLMResult:\n\u001b[0;32m    962\u001b[0m     prompt_messages \u001b[38;5;241m=\u001b[39m [p\u001b[38;5;241m.\u001b[39mto_messages() \u001b[38;5;28;01mfor\u001b[39;00m p \u001b[38;5;129;01min\u001b[39;00m prompts]\n\u001b[1;32m--> 963\u001b[0m     \u001b[38;5;28;01mreturn\u001b[39;00m \u001b[38;5;28mself\u001b[39m\u001b[38;5;241m.\u001b[39mgenerate(prompt_messages, stop\u001b[38;5;241m=\u001b[39mstop, callbacks\u001b[38;5;241m=\u001b[39mcallbacks, \u001b[38;5;241m*\u001b[39m\u001b[38;5;241m*\u001b[39mkwargs)\n",
      "File \u001b[1;32mf:\\DataScience\\Group Projects\\Housy\\housy-ia\\ia-env\\lib\\site-packages\\langchain_core\\language_models\\chat_models.py:782\u001b[0m, in \u001b[0;36mBaseChatModel.generate\u001b[1;34m(self, messages, stop, callbacks, tags, metadata, run_name, run_id, **kwargs)\u001b[0m\n\u001b[0;32m    779\u001b[0m \u001b[38;5;28;01mfor\u001b[39;00m i, m \u001b[38;5;129;01min\u001b[39;00m \u001b[38;5;28menumerate\u001b[39m(input_messages):\n\u001b[0;32m    780\u001b[0m     \u001b[38;5;28;01mtry\u001b[39;00m:\n\u001b[0;32m    781\u001b[0m         results\u001b[38;5;241m.\u001b[39mappend(\n\u001b[1;32m--> 782\u001b[0m             \u001b[38;5;28mself\u001b[39m\u001b[38;5;241m.\u001b[39m_generate_with_cache(\n\u001b[0;32m    783\u001b[0m                 m,\n\u001b[0;32m    784\u001b[0m                 stop\u001b[38;5;241m=\u001b[39mstop,\n\u001b[0;32m    785\u001b[0m                 run_manager\u001b[38;5;241m=\u001b[39mrun_managers[i] \u001b[38;5;28;01mif\u001b[39;00m run_managers \u001b[38;5;28;01melse\u001b[39;00m \u001b[38;5;28;01mNone\u001b[39;00m,\n\u001b[0;32m    786\u001b[0m                 \u001b[38;5;241m*\u001b[39m\u001b[38;5;241m*\u001b[39mkwargs,\n\u001b[0;32m    787\u001b[0m             )\n\u001b[0;32m    788\u001b[0m         )\n\u001b[0;32m    789\u001b[0m     \u001b[38;5;28;01mexcept\u001b[39;00m \u001b[38;5;167;01mBaseException\u001b[39;00m \u001b[38;5;28;01mas\u001b[39;00m e:\n\u001b[0;32m    790\u001b[0m         \u001b[38;5;28;01mif\u001b[39;00m run_managers:\n",
      "File \u001b[1;32mf:\\DataScience\\Group Projects\\Housy\\housy-ia\\ia-env\\lib\\site-packages\\langchain_core\\language_models\\chat_models.py:1028\u001b[0m, in \u001b[0;36mBaseChatModel._generate_with_cache\u001b[1;34m(self, messages, stop, run_manager, **kwargs)\u001b[0m\n\u001b[0;32m   1026\u001b[0m     result \u001b[38;5;241m=\u001b[39m generate_from_stream(\u001b[38;5;28miter\u001b[39m(chunks))\n\u001b[0;32m   1027\u001b[0m \u001b[38;5;28;01melif\u001b[39;00m inspect\u001b[38;5;241m.\u001b[39msignature(\u001b[38;5;28mself\u001b[39m\u001b[38;5;241m.\u001b[39m_generate)\u001b[38;5;241m.\u001b[39mparameters\u001b[38;5;241m.\u001b[39mget(\u001b[38;5;124m\"\u001b[39m\u001b[38;5;124mrun_manager\u001b[39m\u001b[38;5;124m\"\u001b[39m):\n\u001b[1;32m-> 1028\u001b[0m     result \u001b[38;5;241m=\u001b[39m \u001b[38;5;28mself\u001b[39m\u001b[38;5;241m.\u001b[39m_generate(\n\u001b[0;32m   1029\u001b[0m         messages, stop\u001b[38;5;241m=\u001b[39mstop, run_manager\u001b[38;5;241m=\u001b[39mrun_manager, \u001b[38;5;241m*\u001b[39m\u001b[38;5;241m*\u001b[39mkwargs\n\u001b[0;32m   1030\u001b[0m     )\n\u001b[0;32m   1031\u001b[0m \u001b[38;5;28;01melse\u001b[39;00m:\n\u001b[0;32m   1032\u001b[0m     result \u001b[38;5;241m=\u001b[39m \u001b[38;5;28mself\u001b[39m\u001b[38;5;241m.\u001b[39m_generate(messages, stop\u001b[38;5;241m=\u001b[39mstop, \u001b[38;5;241m*\u001b[39m\u001b[38;5;241m*\u001b[39mkwargs)\n",
      "File \u001b[1;32mf:\\DataScience\\Group Projects\\Housy\\housy-ia\\ia-env\\lib\\site-packages\\langchain_aws\\chat_models\\bedrock_converse.py:660\u001b[0m, in \u001b[0;36mChatBedrockConverse._generate\u001b[1;34m(self, messages, stop, run_manager, **kwargs)\u001b[0m\n\u001b[0;32m    658\u001b[0m logger\u001b[38;5;241m.\u001b[39mdebug(\u001b[38;5;124mf\u001b[39m\u001b[38;5;124m\"\u001b[39m\u001b[38;5;124mInput params: \u001b[39m\u001b[38;5;132;01m{\u001b[39;00mparams\u001b[38;5;132;01m}\u001b[39;00m\u001b[38;5;124m\"\u001b[39m)\n\u001b[0;32m    659\u001b[0m logger\u001b[38;5;241m.\u001b[39minfo(\u001b[38;5;124m\"\u001b[39m\u001b[38;5;124mUsing Bedrock Converse API to generate response\u001b[39m\u001b[38;5;124m\"\u001b[39m)\n\u001b[1;32m--> 660\u001b[0m response \u001b[38;5;241m=\u001b[39m \u001b[38;5;28mself\u001b[39m\u001b[38;5;241m.\u001b[39mclient\u001b[38;5;241m.\u001b[39mconverse(\n\u001b[0;32m    661\u001b[0m     messages\u001b[38;5;241m=\u001b[39mbedrock_messages, system\u001b[38;5;241m=\u001b[39msystem, \u001b[38;5;241m*\u001b[39m\u001b[38;5;241m*\u001b[39mparams\n\u001b[0;32m    662\u001b[0m )\n\u001b[0;32m    663\u001b[0m logger\u001b[38;5;241m.\u001b[39mdebug(\u001b[38;5;124mf\u001b[39m\u001b[38;5;124m\"\u001b[39m\u001b[38;5;124mResponse from Bedrock: \u001b[39m\u001b[38;5;132;01m{\u001b[39;00mresponse\u001b[38;5;132;01m}\u001b[39;00m\u001b[38;5;124m\"\u001b[39m)\n\u001b[0;32m    664\u001b[0m response_message \u001b[38;5;241m=\u001b[39m _parse_response(response)\n",
      "File \u001b[1;32mf:\\DataScience\\Group Projects\\Housy\\housy-ia\\ia-env\\lib\\site-packages\\botocore\\client.py:598\u001b[0m, in \u001b[0;36mClientCreator._create_api_method.<locals>._api_call\u001b[1;34m(self, *args, **kwargs)\u001b[0m\n\u001b[0;32m    594\u001b[0m     \u001b[38;5;28;01mraise\u001b[39;00m \u001b[38;5;167;01mTypeError\u001b[39;00m(\n\u001b[0;32m    595\u001b[0m         \u001b[38;5;124mf\u001b[39m\u001b[38;5;124m\"\u001b[39m\u001b[38;5;132;01m{\u001b[39;00mpy_operation_name\u001b[38;5;132;01m}\u001b[39;00m\u001b[38;5;124m() only accepts keyword arguments.\u001b[39m\u001b[38;5;124m\"\u001b[39m\n\u001b[0;32m    596\u001b[0m     )\n\u001b[0;32m    597\u001b[0m \u001b[38;5;66;03m# The \"self\" in this scope is referring to the BaseClient.\u001b[39;00m\n\u001b[1;32m--> 598\u001b[0m \u001b[38;5;28;01mreturn\u001b[39;00m \u001b[38;5;28;43mself\u001b[39;49m\u001b[38;5;241;43m.\u001b[39;49m\u001b[43m_make_api_call\u001b[49m\u001b[43m(\u001b[49m\u001b[43moperation_name\u001b[49m\u001b[43m,\u001b[49m\u001b[43m \u001b[49m\u001b[43mkwargs\u001b[49m\u001b[43m)\u001b[49m\n",
      "File \u001b[1;32mf:\\DataScience\\Group Projects\\Housy\\housy-ia\\ia-env\\lib\\site-packages\\botocore\\context.py:123\u001b[0m, in \u001b[0;36mwith_current_context.<locals>.decorator.<locals>.wrapper\u001b[1;34m(*args, **kwargs)\u001b[0m\n\u001b[0;32m    121\u001b[0m \u001b[38;5;28;01mif\u001b[39;00m hook:\n\u001b[0;32m    122\u001b[0m     hook()\n\u001b[1;32m--> 123\u001b[0m \u001b[38;5;28;01mreturn\u001b[39;00m func(\u001b[38;5;241m*\u001b[39margs, \u001b[38;5;241m*\u001b[39m\u001b[38;5;241m*\u001b[39mkwargs)\n",
      "File \u001b[1;32mf:\\DataScience\\Group Projects\\Housy\\housy-ia\\ia-env\\lib\\site-packages\\botocore\\client.py:1061\u001b[0m, in \u001b[0;36mBaseClient._make_api_call\u001b[1;34m(self, operation_name, api_params)\u001b[0m\n\u001b[0;32m   1057\u001b[0m     error_code \u001b[38;5;241m=\u001b[39m error_info\u001b[38;5;241m.\u001b[39mget(\u001b[38;5;124m\"\u001b[39m\u001b[38;5;124mQueryErrorCode\u001b[39m\u001b[38;5;124m\"\u001b[39m) \u001b[38;5;129;01mor\u001b[39;00m error_info\u001b[38;5;241m.\u001b[39mget(\n\u001b[0;32m   1058\u001b[0m         \u001b[38;5;124m\"\u001b[39m\u001b[38;5;124mCode\u001b[39m\u001b[38;5;124m\"\u001b[39m\n\u001b[0;32m   1059\u001b[0m     )\n\u001b[0;32m   1060\u001b[0m     error_class \u001b[38;5;241m=\u001b[39m \u001b[38;5;28mself\u001b[39m\u001b[38;5;241m.\u001b[39mexceptions\u001b[38;5;241m.\u001b[39mfrom_code(error_code)\n\u001b[1;32m-> 1061\u001b[0m     \u001b[38;5;28;01mraise\u001b[39;00m error_class(parsed_response, operation_name)\n\u001b[0;32m   1062\u001b[0m \u001b[38;5;28;01melse\u001b[39;00m:\n\u001b[0;32m   1063\u001b[0m     \u001b[38;5;28;01mreturn\u001b[39;00m parsed_response\n",
      "\u001b[1;31mValidationException\u001b[0m: An error occurred (ValidationException) when calling the Converse operation: A conversation must start with a user message. Try again with a conversation that starts with a user message."
     ]
    }
   ],
   "source": [
    "model_response = model_converse(response['final_prompt'], response['formatted_conversation'])"
   ]
  },
  {
   "cell_type": "code",
   "execution_count": null,
   "id": "3ad4c2ea",
   "metadata": {},
   "outputs": [],
   "source": [
    "missing_list = get_missing_info(response['lead'])"
   ]
  },
  {
   "cell_type": "code",
   "execution_count": 7,
   "id": "dcf74af0",
   "metadata": {},
   "outputs": [
    {
     "data": {
      "text/plain": [
       "['tipo_propiedad',\n",
       " 'presupuesto',\n",
       " 'numero_dormitorios',\n",
       " 'metraje_minimo',\n",
       " 'amenidades']"
      ]
     },
     "execution_count": 7,
     "metadata": {},
     "output_type": "execute_result"
    }
   ],
   "source": [
    "missing_list"
   ]
  },
  {
   "cell_type": "code",
   "execution_count": 8,
   "id": "844606ff",
   "metadata": {},
   "outputs": [
    {
     "data": {
      "text/plain": [
       "'tipo_propiedad, presupuesto, numero_dormitorios, metraje_minimo, amenidades'"
      ]
     },
     "execution_count": 8,
     "metadata": {},
     "output_type": "execute_result"
    }
   ],
   "source": [
    "\", \".join(missing_list)"
   ]
  },
  {
   "cell_type": "markdown",
   "id": "5aeffe3c",
   "metadata": {},
   "source": [
    "## Data Context"
   ]
  },
  {
   "cell_type": "code",
   "execution_count": 2,
   "id": "07150321",
   "metadata": {},
   "outputs": [],
   "source": [
    "from app.models.PropertyLead import PropertyLead"
   ]
  },
  {
   "cell_type": "code",
   "execution_count": 27,
   "id": "c0239ca4",
   "metadata": {},
   "outputs": [
    {
     "data": {
      "text/plain": [
       "'ubicacion: Ubicación deseada como ciudad o distrito, etc\\ntipo_propiedad: casa, departamento, cuarto, oficina, terreno, etc\\ntransaccion: compra o alquiler\\npresupuesto: Presupuesto aproximado en dolares o soles\\nnumero_dormitorios: Cantidad mínima de dormitorios\\nnumero_banos: Número mínimo de baños.\\nmetraje_minimo: Área mínima en metros cuadrados\\nzona_preferida: Alguna zona preferida de la ciudad\\namenidades: Lista de amenidades deseadas.\\npet_friendly: Si necesita que acepten mascotas.'"
      ]
     },
     "execution_count": 27,
     "metadata": {},
     "output_type": "execute_result"
    }
   ],
   "source": [
    "data_context = \"\"\n",
    "for key,value in dict(PropertyLead.model_fields.items()).items():\n",
    "    data_info = key +  \": \" + value.description\n",
    "    data_context += data_info + \"\\n\"\n",
    "data_context.strip(\"\\n\")"
   ]
  },
  {
   "cell_type": "markdown",
   "id": "c7be278c",
   "metadata": {},
   "source": [
    "## Converse Troubleshooting"
   ]
  },
  {
   "cell_type": "code",
   "execution_count": 8,
   "id": "f94a0633",
   "metadata": {},
   "outputs": [],
   "source": [
    "from app.services.stages.stage1_extract import get_langchain_bedrock_client"
   ]
  },
  {
   "cell_type": "code",
   "execution_count": 9,
   "id": "cc1087f0",
   "metadata": {},
   "outputs": [],
   "source": [
    "client = get_langchain_bedrock_client()"
   ]
  },
  {
   "cell_type": "code",
   "execution_count": 10,
   "id": "9763d694",
   "metadata": {},
   "outputs": [
    {
     "name": "stderr",
     "output_type": "stream",
     "text": [
      "C:\\Users\\Une\\AppData\\Local\\Temp\\ipykernel_23472\\1206425969.py:1: LangChainDeprecationWarning: The method `BaseChatModel.__call__` was deprecated in langchain-core 0.1.7 and will be removed in 1.0. Use :meth:`~invoke` instead.\n",
      "  client(response['formatted_conversation'])\n"
     ]
    },
    {
     "ename": "AttributeError",
     "evalue": "'tuple' object has no attribute 'content'",
     "output_type": "error",
     "traceback": [
      "\u001b[1;31m---------------------------------------------------------------------------\u001b[0m",
      "\u001b[1;31mAttributeError\u001b[0m                            Traceback (most recent call last)",
      "Cell \u001b[1;32mIn[10], line 1\u001b[0m\n\u001b[1;32m----> 1\u001b[0m \u001b[43mclient\u001b[49m\u001b[43m(\u001b[49m\u001b[43mresponse\u001b[49m\u001b[43m[\u001b[49m\u001b[38;5;124;43m'\u001b[39;49m\u001b[38;5;124;43mformatted_conversation\u001b[39;49m\u001b[38;5;124;43m'\u001b[39;49m\u001b[43m]\u001b[49m\u001b[43m)\u001b[49m\n",
      "File \u001b[1;32mf:\\DataScience\\Group Projects\\Housy\\housy-ia\\ia-env\\lib\\site-packages\\langchain_core\\_api\\deprecation.py:189\u001b[0m, in \u001b[0;36mdeprecated.<locals>.deprecate.<locals>.warning_emitting_wrapper\u001b[1;34m(*args, **kwargs)\u001b[0m\n\u001b[0;32m    187\u001b[0m     warned \u001b[38;5;241m=\u001b[39m \u001b[38;5;28;01mTrue\u001b[39;00m\n\u001b[0;32m    188\u001b[0m     emit_warning()\n\u001b[1;32m--> 189\u001b[0m \u001b[38;5;28;01mreturn\u001b[39;00m wrapped(\u001b[38;5;241m*\u001b[39margs, \u001b[38;5;241m*\u001b[39m\u001b[38;5;241m*\u001b[39mkwargs)\n",
      "File \u001b[1;32mf:\\DataScience\\Group Projects\\Housy\\housy-ia\\ia-env\\lib\\site-packages\\langchain_core\\language_models\\chat_models.py:1207\u001b[0m, in \u001b[0;36mBaseChatModel.__call__\u001b[1;34m(self, messages, stop, callbacks, **kwargs)\u001b[0m\n\u001b[0;32m   1185\u001b[0m \u001b[38;5;129m@deprecated\u001b[39m(\u001b[38;5;124m\"\u001b[39m\u001b[38;5;124m0.1.7\u001b[39m\u001b[38;5;124m\"\u001b[39m, alternative\u001b[38;5;241m=\u001b[39m\u001b[38;5;124m\"\u001b[39m\u001b[38;5;124minvoke\u001b[39m\u001b[38;5;124m\"\u001b[39m, removal\u001b[38;5;241m=\u001b[39m\u001b[38;5;124m\"\u001b[39m\u001b[38;5;124m1.0\u001b[39m\u001b[38;5;124m\"\u001b[39m)\n\u001b[0;32m   1186\u001b[0m \u001b[38;5;28;01mdef\u001b[39;00m\u001b[38;5;250m \u001b[39m\u001b[38;5;21m__call__\u001b[39m(\n\u001b[0;32m   1187\u001b[0m     \u001b[38;5;28mself\u001b[39m,\n\u001b[1;32m   (...)\u001b[0m\n\u001b[0;32m   1191\u001b[0m     \u001b[38;5;241m*\u001b[39m\u001b[38;5;241m*\u001b[39mkwargs: Any,\n\u001b[0;32m   1192\u001b[0m ) \u001b[38;5;241m-\u001b[39m\u001b[38;5;241m>\u001b[39m BaseMessage:\n\u001b[0;32m   1193\u001b[0m \u001b[38;5;250m    \u001b[39m\u001b[38;5;124;03m\"\"\"Call the model.\u001b[39;00m\n\u001b[0;32m   1194\u001b[0m \n\u001b[0;32m   1195\u001b[0m \u001b[38;5;124;03m    Args:\u001b[39;00m\n\u001b[1;32m   (...)\u001b[0m\n\u001b[0;32m   1205\u001b[0m \u001b[38;5;124;03m        The model output message.\u001b[39;00m\n\u001b[0;32m   1206\u001b[0m \u001b[38;5;124;03m    \"\"\"\u001b[39;00m\n\u001b[1;32m-> 1207\u001b[0m     generation \u001b[38;5;241m=\u001b[39m \u001b[38;5;28mself\u001b[39m\u001b[38;5;241m.\u001b[39mgenerate(\n\u001b[0;32m   1208\u001b[0m         [messages], stop\u001b[38;5;241m=\u001b[39mstop, callbacks\u001b[38;5;241m=\u001b[39mcallbacks, \u001b[38;5;241m*\u001b[39m\u001b[38;5;241m*\u001b[39mkwargs\n\u001b[0;32m   1209\u001b[0m     )\u001b[38;5;241m.\u001b[39mgenerations[\u001b[38;5;241m0\u001b[39m][\u001b[38;5;241m0\u001b[39m]\n\u001b[0;32m   1210\u001b[0m     \u001b[38;5;28;01mif\u001b[39;00m \u001b[38;5;28misinstance\u001b[39m(generation, ChatGeneration):\n\u001b[0;32m   1211\u001b[0m         \u001b[38;5;28;01mreturn\u001b[39;00m generation\u001b[38;5;241m.\u001b[39mmessage\n",
      "File \u001b[1;32mf:\\DataScience\\Group Projects\\Housy\\housy-ia\\ia-env\\lib\\site-packages\\langchain_core\\language_models\\chat_models.py:763\u001b[0m, in \u001b[0;36mBaseChatModel.generate\u001b[1;34m(self, messages, stop, callbacks, tags, metadata, run_name, run_id, **kwargs)\u001b[0m\n\u001b[0;32m    749\u001b[0m inheritable_metadata \u001b[38;5;241m=\u001b[39m {\n\u001b[0;32m    750\u001b[0m     \u001b[38;5;241m*\u001b[39m\u001b[38;5;241m*\u001b[39m(metadata \u001b[38;5;129;01mor\u001b[39;00m {}),\n\u001b[0;32m    751\u001b[0m     \u001b[38;5;241m*\u001b[39m\u001b[38;5;241m*\u001b[39m\u001b[38;5;28mself\u001b[39m\u001b[38;5;241m.\u001b[39m_get_ls_params(stop\u001b[38;5;241m=\u001b[39mstop, \u001b[38;5;241m*\u001b[39m\u001b[38;5;241m*\u001b[39mkwargs),\n\u001b[0;32m    752\u001b[0m }\n\u001b[0;32m    754\u001b[0m callback_manager \u001b[38;5;241m=\u001b[39m CallbackManager\u001b[38;5;241m.\u001b[39mconfigure(\n\u001b[0;32m    755\u001b[0m     callbacks,\n\u001b[0;32m    756\u001b[0m     \u001b[38;5;28mself\u001b[39m\u001b[38;5;241m.\u001b[39mcallbacks,\n\u001b[1;32m   (...)\u001b[0m\n\u001b[0;32m    761\u001b[0m     \u001b[38;5;28mself\u001b[39m\u001b[38;5;241m.\u001b[39mmetadata,\n\u001b[0;32m    762\u001b[0m )\n\u001b[1;32m--> 763\u001b[0m messages_to_trace \u001b[38;5;241m=\u001b[39m [\n\u001b[0;32m    764\u001b[0m     _format_for_tracing(message_list) \u001b[38;5;28;01mfor\u001b[39;00m message_list \u001b[38;5;129;01min\u001b[39;00m messages\n\u001b[0;32m    765\u001b[0m ]\n\u001b[0;32m    766\u001b[0m run_managers \u001b[38;5;241m=\u001b[39m callback_manager\u001b[38;5;241m.\u001b[39mon_chat_model_start(\n\u001b[0;32m    767\u001b[0m     \u001b[38;5;28mself\u001b[39m\u001b[38;5;241m.\u001b[39m_serialized,\n\u001b[0;32m    768\u001b[0m     messages_to_trace,\n\u001b[1;32m   (...)\u001b[0m\n\u001b[0;32m    773\u001b[0m     batch_size\u001b[38;5;241m=\u001b[39m\u001b[38;5;28mlen\u001b[39m(messages),\n\u001b[0;32m    774\u001b[0m )\n\u001b[0;32m    775\u001b[0m results \u001b[38;5;241m=\u001b[39m []\n",
      "File \u001b[1;32mf:\\DataScience\\Group Projects\\Housy\\housy-ia\\ia-env\\lib\\site-packages\\langchain_core\\language_models\\chat_models.py:764\u001b[0m, in \u001b[0;36m<listcomp>\u001b[1;34m(.0)\u001b[0m\n\u001b[0;32m    749\u001b[0m inheritable_metadata \u001b[38;5;241m=\u001b[39m {\n\u001b[0;32m    750\u001b[0m     \u001b[38;5;241m*\u001b[39m\u001b[38;5;241m*\u001b[39m(metadata \u001b[38;5;129;01mor\u001b[39;00m {}),\n\u001b[0;32m    751\u001b[0m     \u001b[38;5;241m*\u001b[39m\u001b[38;5;241m*\u001b[39m\u001b[38;5;28mself\u001b[39m\u001b[38;5;241m.\u001b[39m_get_ls_params(stop\u001b[38;5;241m=\u001b[39mstop, \u001b[38;5;241m*\u001b[39m\u001b[38;5;241m*\u001b[39mkwargs),\n\u001b[0;32m    752\u001b[0m }\n\u001b[0;32m    754\u001b[0m callback_manager \u001b[38;5;241m=\u001b[39m CallbackManager\u001b[38;5;241m.\u001b[39mconfigure(\n\u001b[0;32m    755\u001b[0m     callbacks,\n\u001b[0;32m    756\u001b[0m     \u001b[38;5;28mself\u001b[39m\u001b[38;5;241m.\u001b[39mcallbacks,\n\u001b[1;32m   (...)\u001b[0m\n\u001b[0;32m    761\u001b[0m     \u001b[38;5;28mself\u001b[39m\u001b[38;5;241m.\u001b[39mmetadata,\n\u001b[0;32m    762\u001b[0m )\n\u001b[0;32m    763\u001b[0m messages_to_trace \u001b[38;5;241m=\u001b[39m [\n\u001b[1;32m--> 764\u001b[0m     \u001b[43m_format_for_tracing\u001b[49m\u001b[43m(\u001b[49m\u001b[43mmessage_list\u001b[49m\u001b[43m)\u001b[49m \u001b[38;5;28;01mfor\u001b[39;00m message_list \u001b[38;5;129;01min\u001b[39;00m messages\n\u001b[0;32m    765\u001b[0m ]\n\u001b[0;32m    766\u001b[0m run_managers \u001b[38;5;241m=\u001b[39m callback_manager\u001b[38;5;241m.\u001b[39mon_chat_model_start(\n\u001b[0;32m    767\u001b[0m     \u001b[38;5;28mself\u001b[39m\u001b[38;5;241m.\u001b[39m_serialized,\n\u001b[0;32m    768\u001b[0m     messages_to_trace,\n\u001b[1;32m   (...)\u001b[0m\n\u001b[0;32m    773\u001b[0m     batch_size\u001b[38;5;241m=\u001b[39m\u001b[38;5;28mlen\u001b[39m(messages),\n\u001b[0;32m    774\u001b[0m )\n\u001b[0;32m    775\u001b[0m results \u001b[38;5;241m=\u001b[39m []\n",
      "File \u001b[1;32mf:\\DataScience\\Group Projects\\Housy\\housy-ia\\ia-env\\lib\\site-packages\\langchain_core\\language_models\\chat_models.py:126\u001b[0m, in \u001b[0;36m_format_for_tracing\u001b[1;34m(messages)\u001b[0m\n\u001b[0;32m    124\u001b[0m \u001b[38;5;28;01mfor\u001b[39;00m message \u001b[38;5;129;01min\u001b[39;00m messages:\n\u001b[0;32m    125\u001b[0m     message_to_trace \u001b[38;5;241m=\u001b[39m message\n\u001b[1;32m--> 126\u001b[0m     \u001b[38;5;28;01mif\u001b[39;00m \u001b[38;5;28misinstance\u001b[39m(\u001b[43mmessage\u001b[49m\u001b[38;5;241;43m.\u001b[39;49m\u001b[43mcontent\u001b[49m, \u001b[38;5;28mlist\u001b[39m):\n\u001b[0;32m    127\u001b[0m         \u001b[38;5;28;01mfor\u001b[39;00m idx, block \u001b[38;5;129;01min\u001b[39;00m \u001b[38;5;28menumerate\u001b[39m(message\u001b[38;5;241m.\u001b[39mcontent):\n\u001b[0;32m    128\u001b[0m             \u001b[38;5;28;01mif\u001b[39;00m (\n\u001b[0;32m    129\u001b[0m                 \u001b[38;5;28misinstance\u001b[39m(block, \u001b[38;5;28mdict\u001b[39m)\n\u001b[0;32m    130\u001b[0m                 \u001b[38;5;129;01mand\u001b[39;00m block\u001b[38;5;241m.\u001b[39mget(\u001b[38;5;124m\"\u001b[39m\u001b[38;5;124mtype\u001b[39m\u001b[38;5;124m\"\u001b[39m) \u001b[38;5;241m==\u001b[39m \u001b[38;5;124m\"\u001b[39m\u001b[38;5;124mimage\u001b[39m\u001b[38;5;124m\"\u001b[39m\n\u001b[0;32m    131\u001b[0m                 \u001b[38;5;129;01mand\u001b[39;00m is_data_content_block(block)\n\u001b[0;32m    132\u001b[0m                 \u001b[38;5;129;01mand\u001b[39;00m block\u001b[38;5;241m.\u001b[39mget(\u001b[38;5;124m\"\u001b[39m\u001b[38;5;124msource_type\u001b[39m\u001b[38;5;124m\"\u001b[39m) \u001b[38;5;241m!=\u001b[39m \u001b[38;5;124m\"\u001b[39m\u001b[38;5;124mid\u001b[39m\u001b[38;5;124m\"\u001b[39m\n\u001b[0;32m    133\u001b[0m             ):\n",
      "\u001b[1;31mAttributeError\u001b[0m: 'tuple' object has no attribute 'content'"
     ]
    }
   ],
   "source": [
    "client()"
   ]
  },
  {
   "cell_type": "code",
   "execution_count": 12,
   "id": "0b7e5d15",
   "metadata": {},
   "outputs": [],
   "source": [
    "test_dict = {\"test\": \"hola\"}"
   ]
  },
  {
   "cell_type": "code",
   "execution_count": 16,
   "id": "a397a15a",
   "metadata": {},
   "outputs": [
    {
     "name": "stdout",
     "output_type": "stream",
     "text": [
      "bye\n"
     ]
    }
   ],
   "source": [
    "if 'test2' in test_dict.keys():\n",
    "    print(\"hi\")\n",
    "else:\n",
    "    print(\"bye\")"
   ]
  },
  {
   "cell_type": "code",
   "execution_count": 17,
   "id": "6c5fe47e",
   "metadata": {},
   "outputs": [],
   "source": [
    "LEAD_GENERATION_PARAMS = {\"max_tokens\": 250, \"temperature\": 0.6, \"top_p\" : 0.6}"
   ]
  },
  {
   "cell_type": "code",
   "execution_count": 19,
   "id": "e03e3c7d",
   "metadata": {},
   "outputs": [
    {
     "ename": "SyntaxError",
     "evalue": "invalid syntax (2337524538.py, line 1)",
     "output_type": "error",
     "traceback": [
      "\u001b[1;36m  Cell \u001b[1;32mIn[19], line 1\u001b[1;36m\u001b[0m\n\u001b[1;33m    max_tokens, temperature, top_p = **LEAD_GENERATION_PARAMS\u001b[0m\n\u001b[1;37m                                     ^\u001b[0m\n\u001b[1;31mSyntaxError\u001b[0m\u001b[1;31m:\u001b[0m invalid syntax\n"
     ]
    }
   ],
   "source": [
    "max_tokens, temperature, top_p = LEAD_GENERATION_PARAMS"
   ]
  },
  {
   "cell_type": "markdown",
   "id": "fc33fe0c",
   "metadata": {},
   "source": [
    "# 9-7-2025"
   ]
  },
  {
   "cell_type": "markdown",
   "id": "fd6ae1cd",
   "metadata": {},
   "source": [
    "## structured_output verification"
   ]
  },
  {
   "cell_type": "code",
   "execution_count": 2,
   "id": "f6b7dc7e",
   "metadata": {},
   "outputs": [],
   "source": [
    "from app.services.stages.stage1_extract import get_lead_with_prompt"
   ]
  },
  {
   "cell_type": "code",
   "execution_count": 3,
   "id": "62cc0b3d",
   "metadata": {},
   "outputs": [],
   "source": [
    "prompt = \"\\n            A partir del siguiente historial de mensajes de usuario, extrae únicamente los datos explícitamente mencionados.\\n            No hagas suposiciones. Si no se menciona algo, deja el campo como null.\\n\\n            Mensajes del usuario:\\n             Estoy buscando un depa en San Isidro.\\n\\n            \"\n",
    "response = get_lead_with_prompt(prompt, include_raw=True)"
   ]
  },
  {
   "cell_type": "code",
   "execution_count": 4,
   "id": "d120b430",
   "metadata": {},
   "outputs": [
    {
     "data": {
      "text/plain": [
       "{'raw': AIMessage(content=[{'type': 'tool_use', 'name': 'PropertyLead', 'input': {'metraje_minimo': None, 'numero_dormitorios': 1, 'zona_preferida': None, 'ubicacion': 'San Isidro', 'tipo_propiedad': 'departamento', 'presupuesto': None, 'transaccion': 'compra', 'pet_friendly': None, 'amenidades': None, 'numero_banos': None}, 'id': 'tooluse_0vYuYCoRRdSA7zMsESAH8Q'}], additional_kwargs={}, response_metadata={'ResponseMetadata': {'RequestId': '7b2d7b3d-31c0-4449-90c7-c9adb5a6d4a9', 'HTTPStatusCode': 200, 'HTTPHeaders': {'date': 'Wed, 09 Jul 2025 18:34:32 GMT', 'content-type': 'application/json', 'content-length': '486', 'connection': 'keep-alive', 'x-amzn-requestid': '7b2d7b3d-31c0-4449-90c7-c9adb5a6d4a9'}, 'RetryAttempts': 0}, 'stopReason': 'tool_use', 'metrics': {'latencyMs': [640]}, 'model_name': 'amazon.nova-micro-v1:0'}, id='run--376ba32e-edb6-4b37-bd9a-59778ec2417c-0', tool_calls=[{'name': 'PropertyLead', 'args': {'metraje_minimo': None, 'numero_dormitorios': 1, 'zona_preferida': None, 'ubicacion': 'San Isidro', 'tipo_propiedad': 'departamento', 'presupuesto': None, 'transaccion': 'compra', 'pet_friendly': None, 'amenidades': None, 'numero_banos': None}, 'id': 'tooluse_0vYuYCoRRdSA7zMsESAH8Q', 'type': 'tool_call'}], usage_metadata={'input_tokens': 852, 'output_tokens': 72, 'total_tokens': 924, 'input_token_details': {'cache_creation': 0, 'cache_read': 0}}),\n",
       " 'parsed': PropertyLead(ubicacion='San Isidro', tipo_propiedad='departamento', transaccion='compra', presupuesto=None, numero_dormitorios=1, numero_banos=None, metraje_minimo=None, zona_preferida=None, amenidades=None, pet_friendly=None),\n",
       " 'parsing_error': None}"
      ]
     },
     "execution_count": 4,
     "metadata": {},
     "output_type": "execute_result"
    }
   ],
   "source": [
    "response"
   ]
  },
  {
   "cell_type": "markdown",
   "id": "ad7a0e09",
   "metadata": {},
   "source": [
    "## stage 2 test"
   ]
  },
  {
   "cell_type": "code",
   "execution_count": 3,
   "id": "974a4c5e",
   "metadata": {},
   "outputs": [],
   "source": [
    "from app.services.stages.stage2_recommend import create_lead_description, handler"
   ]
  },
  {
   "cell_type": "code",
   "execution_count": 16,
   "id": "7dee0e76",
   "metadata": {},
   "outputs": [],
   "source": [
    "lead = {\n",
    "    \"ubicacion\": \"Lima, Perú, San Isidro\",\n",
    "    \"tipo_propiedad\": \"departamento\",\n",
    "    \"transaccion\": \"alquiler\",\n",
    "    \"presupuesto\": None,\n",
    "    \"numero_dormitorios\": 2,\n",
    "    \"numero_banos\": 2,\n",
    "    \"metraje_minimo\": None,\n",
    "    \"amenidades\": [\"gimnasio\"],\n",
    "    \"cercania\": None,\n",
    "    \"pet_friendly\": True\n",
    "}"
   ]
  },
  {
   "cell_type": "code",
   "execution_count": 17,
   "id": "71c18036",
   "metadata": {},
   "outputs": [
    {
     "data": {
      "text/plain": [
       "\"ubicacion: Lima, Perú, San Isidro, tipo_propiedad: departamento, transaccion: alquiler, numero_dormitorios: 2, numero_banos: 2, amenidades: ['gimnasio'], pet_friendly: True\""
      ]
     },
     "execution_count": 17,
     "metadata": {},
     "output_type": "execute_result"
    }
   ],
   "source": [
    "create_lead_description(lead)"
   ]
  },
  {
   "cell_type": "code",
   "execution_count": 18,
   "id": "6b156000",
   "metadata": {},
   "outputs": [],
   "source": [
    "property_list = handler(lead)"
   ]
  },
  {
   "cell_type": "code",
   "execution_count": 20,
   "id": "adee5d9f",
   "metadata": {},
   "outputs": [
    {
     "data": {
      "text/plain": [
       "\"[{'id': 'e2c976a5dc9248d2d5e63f131b4c3256', 'text': 'Departamento moderno en exclusivo San Isidro - Experience el lujo y confort de este departamento ubicado en el corazón de San Isidro, Lima. Con vistas panorámicas y proximidad a servicios públicos, esta es la oportunidad perfecta para tener un hogar único en una de las zonas más deseables de Lima. - casa - 471, Calle Teniente Paul de Beaudiez, Fondo de Vivienda Militar del Ejercito, San Isidro, Lima, Lima Metropolitana, Lima, 15076, Perú - alquiler', 'score': 0.0119888885}, {'id': '868a19bdd494fa59f393ff76978d4628', 'text': 'Apartamento moderno en Santa Isabel - Ofrecemos un espacioso apartamento en Santa Isabel, con vistas a la calle Mariscal Blas Cerdeña. Incluye ambiente común, 2 habitaciones, cocina integral y baño completo. - cuarto - 137, Calle Mariscal Blas Cerdeña, Santa Isabel, San Isidro, Lima, Lima Metropolitana, Lima, 15073, Perú - alquiler', 'score': 0.010497754}, {'id': 'c212f43aa045f3f0ca4d2b84b71c23ef', 'text': 'Cuarto elegante en San Isidro, Lima - Ático moderno con vista panorámica en el distrito exclusivo de San Isidro, Lima. Completo de servicios y a pocas cuadras del centro. - cuarto - Santa Mónica, San Isidro, Lima, Lima Metropolitana, Lima, 15027, Perú - alquiler', 'score': 0.010228498}, {'id': 'f5af5e0b45b2a58f7bd6bd35f1300a64', 'text': 'Cuarto confortable en Santa Isabel, San Isidro - Apto en ubicación estratégica de la urbanizada Santa Isabel, San Isidro, Lima. Espacio moderno con servicios completos. - cuarto - Calle Francisco Eguiguren, Santa Isabel, San Isidro, Lima, Lima Metropolitana, Lima, 15073, Perú - alquiler', 'score': 0.010181991}, {'id': '53e4c04d1416b9a6bf0e3d680ad7a422', 'text': 'Apartamento moderno en exclusivo San Isidro - Experimenta la vida en un apartamento espectacular, ubicado en el lujoso distrito de San Isidro, Lima. Este espacio ofrece comodidades y una vista impresionante. - cuarto - Avenida General Salaverry, Orrantia del Mar, San Isidro, Lima, Lima Metropolitana, Lima, 15076, Perú - venta', 'score': 0.009875104}]\""
      ]
     },
     "execution_count": 20,
     "metadata": {},
     "output_type": "execute_result"
    }
   ],
   "source": [
    "str(property_list)"
   ]
  },
  {
   "cell_type": "markdown",
   "id": "dfe4320e",
   "metadata": {},
   "source": [
    "## Get Chat Stage"
   ]
  },
  {
   "cell_type": "code",
   "execution_count": 3,
   "id": "809f4458",
   "metadata": {},
   "outputs": [],
   "source": [
    "from app.services.dynamodb_queries import get_all_messages, get_latests_messages, response_to_conversation, get_metadata\n",
    "from app.core.aws_clients import get_dynamodb_client"
   ]
  },
  {
   "cell_type": "code",
   "execution_count": 4,
   "id": "08c10987",
   "metadata": {},
   "outputs": [],
   "source": [
    "client = get_dynamodb_client()"
   ]
  },
  {
   "cell_type": "code",
   "execution_count": 5,
   "id": "992ace8e",
   "metadata": {},
   "outputs": [],
   "source": [
    "user_id=\"langchain-test-22\"\n",
    "conv_id=user_id\n",
    "primary_key = \"USER#\"+user_id+\"#CONV#\"+conv_id"
   ]
  },
  {
   "cell_type": "code",
   "execution_count": 6,
   "id": "6c1b5672",
   "metadata": {},
   "outputs": [],
   "source": [
    "latest_messages = get_latests_messages(client, primary_key, limit=10)"
   ]
  },
  {
   "cell_type": "code",
   "execution_count": 7,
   "id": "8fb6d0eb",
   "metadata": {},
   "outputs": [
    {
     "data": {
      "text/plain": [
       "{'Items': [{'metadata': {'M': {'additionalProp1': {'M': {}},\n",
       "     'stage': {'S': 'recommend'},\n",
       "     'lead': {'M': {'metraje_minimo': {'NULL': True},\n",
       "       'numero_dormitorios': {'N': '1'},\n",
       "       'ubicacion': {'S': 'Miraflores'},\n",
       "       'tipo_propiedad': {'S': 'depa'},\n",
       "       'presupuesto': {'NULL': True},\n",
       "       'transaccion': {'S': 'alquiler'},\n",
       "       'pet_friendly': {'NULL': True},\n",
       "       'amenidades': {'NULL': True},\n",
       "       'numero_banos': {'NULL': True},\n",
       "       'cercania': {'NULL': True}}}}},\n",
       "   'SK': {'S': 'TIMESTAMP#2025-07-09T22:43:20.236203Z'},\n",
       "   'message': {'S': \"[{'id': 'f28a046da59043df64ebab278aada7f5', 'text': 'Apartamento confortable en Miraflores, Lima - Área lujosa en el popular barrio de Miraflores. Apartamento equipado con todas las comodidades necesarias para su estancia, cerca del centro y de las principales atracciones turísticas. - departamento - Inkafarma, Avenida Mariscal La Mar, Santa Cruz, Miraflores, Lima, Lima Metropolitana, Lima, 15074, Perú - alquiler', 'score': 0.007828885}, {'id': '1180004e63e02e521f4d864040b7763b', 'text': 'Apartamento confortable en Miraflores - Encuentra un apartamento bien ubicado en el distrito elegante de Miraflores, con acceso rápido a puntos de interés y servicios. - cuarto - 1285, Avenida Mariscal La Mar, Santa Cruz, Miraflores, Lima, Lima Metropolitana, Lima, 15073, Perú - alquiler', 'score': 0.007752046}, {'id': '604758545c9daa74ff3f2bbe9c4c158d', 'text': 'Apto confortable en Miraflores, Lima - Situado en el distrito residencial de Miraflores, ofrecemos un apartamento moderno y bien cuidado con acceso fácil a locales comerciales y servicios. - cuarto - 771, Calle General Mendiburú, Santa Cruz, Miraflores, Lima, Lima Metropolitana, Lima, 15074, Perú - alquiler', 'score': 0.0076428764}, {'id': '3c9021c373176d8b3b012f359311267c', 'text': 'Apartamento moderno en Miraflores, Lima - Alquila este apartamento estilo loft, ubicado en la zona de Miraflores. El espacio ofrece una combinación única entre el diseño contemporáneo y el confort necesario para tener una estancia sin igual. - cuarto - CE Pestalozzi, 1450, Avenida Ricardo Palma, Aurora, Miraflores, Lima, Lima Metropolitana, Lima, 15048, Perú - alquiler', 'score': 0.00740404}, {'id': '98fb1dca248214185cf80f586c15535f', 'text': 'Casa en Miraflores, Lima: Sensacional oportunidad - Está aquí tu nueva residencia en una localización privilegiada en el corazón de Miraflores, Lima. La propiedad ofrece un espacio cómodo y moderno. - local - Calle Salvador Gutierrez, Alicia, Miraflores, Lima, Lima Metropolitana, Lima, 15048, Perú - venta', 'score': 0.0070073497}]\"},\n",
       "   'PK': {'S': 'USER#langchain-test-22#CONV#langchain-test-22'},\n",
       "   'role': {'S': 'assistant'}},\n",
       "  {'metadata': {'M': {'additionalProp1': {'M': {}},\n",
       "     'stage': {'S': 'recommend'},\n",
       "     'lead': {'M': {'metraje_minimo': {'NULL': True},\n",
       "       'numero_dormitorios': {'N': '1'},\n",
       "       'ubicacion': {'S': 'Miraflores'},\n",
       "       'tipo_propiedad': {'S': 'depa'},\n",
       "       'presupuesto': {'NULL': True},\n",
       "       'transaccion': {'S': 'alquiler'},\n",
       "       'pet_friendly': {'NULL': True},\n",
       "       'amenidades': {'NULL': True},\n",
       "       'numero_banos': {'NULL': True},\n",
       "       'cercania': {'NULL': True}}}}},\n",
       "   'SK': {'S': 'TIMESTAMP#2025-07-09T22:43:20.127339Z'},\n",
       "   'message': {'S': 'Estaba pensando en el distrito de Miraflores, en lo posible un depa para 1 persona. '},\n",
       "   'PK': {'S': 'USER#langchain-test-22#CONV#langchain-test-22'},\n",
       "   'role': {'S': 'user'}},\n",
       "  {'metadata': {'M': {'additionalProp1': {'M': {}},\n",
       "     'stage': {'S': 'extract'},\n",
       "     'lead': {'M': {'metraje_minimo': {'NULL': True},\n",
       "       'numero_dormitorios': {'NULL': True},\n",
       "       'ubicacion': {'NULL': True},\n",
       "       'tipo_propiedad': {'NULL': True},\n",
       "       'presupuesto': {'NULL': True},\n",
       "       'transaccion': {'S': 'alquiler'},\n",
       "       'pet_friendly': {'NULL': True},\n",
       "       'amenidades': {'NULL': True},\n",
       "       'numero_banos': {'NULL': True},\n",
       "       'cercania': {'NULL': True}}}}},\n",
       "   'SK': {'S': 'TIMESTAMP#2025-07-09T22:37:29.695218Z'},\n",
       "   'message': {'S': '¡Hola! Para ayudarte mejor, ¿en qué ciudad o distrito estás buscando? ¿Y qué tipo de propiedad prefieres: casa, departamento, etc.? ¡Estos detalles son clave para encontrar lo que buscas!'},\n",
       "   'PK': {'S': 'USER#langchain-test-22#CONV#langchain-test-22'},\n",
       "   'role': {'S': 'assistant'}},\n",
       "  {'metadata': {'M': {'additionalProp1': {'M': {}},\n",
       "     'stage': {'S': 'extract'},\n",
       "     'lead': {'M': {'metraje_minimo': {'NULL': True},\n",
       "       'numero_dormitorios': {'NULL': True},\n",
       "       'ubicacion': {'NULL': True},\n",
       "       'tipo_propiedad': {'NULL': True},\n",
       "       'presupuesto': {'NULL': True},\n",
       "       'transaccion': {'S': 'alquiler'},\n",
       "       'pet_friendly': {'NULL': True},\n",
       "       'amenidades': {'NULL': True},\n",
       "       'numero_banos': {'NULL': True},\n",
       "       'cercania': {'NULL': True}}}}},\n",
       "   'SK': {'S': 'TIMESTAMP#2025-07-09T22:37:29.588765Z'},\n",
       "   'message': {'S': 'Estoy buscando alquilar'},\n",
       "   'PK': {'S': 'USER#langchain-test-22#CONV#langchain-test-22'},\n",
       "   'role': {'S': 'user'}}],\n",
       " 'Count': 4,\n",
       " 'ScannedCount': 4,\n",
       " 'ResponseMetadata': {'RequestId': 'IUMKT2VM6RUHLDKMKD524P8H5RVV4KQNSO5AEMVJF66Q9ASUAAJG',\n",
       "  'HTTPStatusCode': 200,\n",
       "  'HTTPHeaders': {'server': 'Server',\n",
       "   'date': 'Wed, 09 Jul 2025 23:08:22 GMT',\n",
       "   'content-type': 'application/x-amz-json-1.0',\n",
       "   'content-length': '4512',\n",
       "   'connection': 'keep-alive',\n",
       "   'x-amzn-requestid': 'IUMKT2VM6RUHLDKMKD524P8H5RVV4KQNSO5AEMVJF66Q9ASUAAJG',\n",
       "   'x-amz-crc32': '1665817912'},\n",
       "  'RetryAttempts': 0}}"
      ]
     },
     "execution_count": 7,
     "metadata": {},
     "output_type": "execute_result"
    }
   ],
   "source": [
    "latest_messages"
   ]
  },
  {
   "cell_type": "code",
   "execution_count": 11,
   "id": "6744450d",
   "metadata": {},
   "outputs": [
    {
     "data": {
      "text/plain": [
       "{'additionalProp1': {},\n",
       " 'stage': 'recommend',\n",
       " 'lead': {'metraje_minimo': None,\n",
       "  'numero_dormitorios': Decimal('1'),\n",
       "  'ubicacion': 'Miraflores',\n",
       "  'tipo_propiedad': 'depa',\n",
       "  'presupuesto': None,\n",
       "  'transaccion': 'alquiler',\n",
       "  'pet_friendly': None,\n",
       "  'amenidades': None,\n",
       "  'numero_banos': None,\n",
       "  'cercania': None}}"
      ]
     },
     "execution_count": 11,
     "metadata": {},
     "output_type": "execute_result"
    }
   ],
   "source": [
    "get_metadata(latest_messages)[-1]"
   ]
  },
  {
   "cell_type": "code",
   "execution_count": null,
   "id": "1bc8690d",
   "metadata": {},
   "outputs": [],
   "source": []
  }
 ],
 "metadata": {
  "kernelspec": {
   "display_name": "ia-env",
   "language": "python",
   "name": "python3"
  },
  "language_info": {
   "codemirror_mode": {
    "name": "ipython",
    "version": 3
   },
   "file_extension": ".py",
   "mimetype": "text/x-python",
   "name": "python",
   "nbconvert_exporter": "python",
   "pygments_lexer": "ipython3",
   "version": "3.10.11"
  }
 },
 "nbformat": 4,
 "nbformat_minor": 5
}
