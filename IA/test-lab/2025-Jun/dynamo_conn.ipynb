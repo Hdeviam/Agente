{
 "cells": [
  {
   "cell_type": "markdown",
   "id": "f8eef597",
   "metadata": {},
   "source": [
    "# Pruebas Lectura - Escritura DynamoDB"
   ]
  },
  {
   "cell_type": "code",
   "execution_count": 1,
   "id": "f47cf194",
   "metadata": {},
   "outputs": [],
   "source": [
    "import sys\n",
    "import os\n",
    "\n",
    "# Ruta al proyecto (ajusta si estás en otra carpeta)\n",
    "project_root = os.path.abspath(os.path.join(os.getcwd(), '..'))\n",
    "sys.path.append(project_root)"
   ]
  },
  {
   "cell_type": "markdown",
   "id": "7d7434f5",
   "metadata": {},
   "source": [
    "Data source:\n",
    "- https://docs.aws.amazon.com/amazondynamodb/latest/developerguide/programming-with-python.html\n",
    "- https://boto3.amazonaws.com/v1/documentation/api/latest/reference/services/dynamodb.html"
   ]
  },
  {
   "cell_type": "code",
   "execution_count": 2,
   "id": "7acffd23",
   "metadata": {},
   "outputs": [],
   "source": [
    "import boto3"
   ]
  },
  {
   "cell_type": "markdown",
   "id": "500353bb",
   "metadata": {},
   "source": [
    "## Session Creation"
   ]
  },
  {
   "cell_type": "code",
   "execution_count": 3,
   "id": "0c282f2b",
   "metadata": {},
   "outputs": [],
   "source": [
    "session = boto3.Session(profile_name='HousyProject')\n",
    "dynamodb = session.client('dynamodb')"
   ]
  },
  {
   "cell_type": "markdown",
   "id": "184b7f75",
   "metadata": {},
   "source": [
    "## Write"
   ]
  },
  {
   "cell_type": "code",
   "execution_count": 22,
   "id": "3cda0a86",
   "metadata": {},
   "outputs": [],
   "source": [
    "#generamos nuevos datos\n",
    "import uuid\n",
    "from datetime import datetime, timezone"
   ]
  },
  {
   "cell_type": "code",
   "execution_count": 31,
   "id": "53bf75f5",
   "metadata": {},
   "outputs": [],
   "source": [
    "user_id = str(uuid.uuid4())\n",
    "chat_id = str(uuid.uuid4())\n",
    "primary_key = f'USER#{user_id}#CONV#{chat_id}'\n",
    "tstamp = datetime.now(timezone.utc).isoformat().replace('+00:00', 'Z')"
   ]
  },
  {
   "cell_type": "code",
   "execution_count": null,
   "id": "d295b85b",
   "metadata": {},
   "outputs": [
    {
     "data": {
      "text/plain": [
       "{'ResponseMetadata': {'RequestId': '8MD8O4N5KE3M4H52N5NMK4O42NVV4KQNSO5AEMVJF66Q9ASUAAJG',\n",
       "  'HTTPStatusCode': 200,\n",
       "  'HTTPHeaders': {'server': 'Server',\n",
       "   'date': 'Tue, 24 Jun 2025 16:58:39 GMT',\n",
       "   'content-type': 'application/x-amz-json-1.0',\n",
       "   'content-length': '2',\n",
       "   'connection': 'keep-alive',\n",
       "   'x-amzn-requestid': '8MD8O4N5KE3M4H52N5NMK4O42NVV4KQNSO5AEMVJF66Q9ASUAAJG',\n",
       "   'x-amz-crc32': '2745614147'},\n",
       "  'RetryAttempts': 0}}"
      ]
     },
     "execution_count": 30,
     "metadata": {},
     "output_type": "execute_result"
    }
   ],
   "source": [
    "# escribimos en dynamodb, se usa estructura DyanamoDB. \n",
    "dynamodb.put_item(\n",
    "    TableName = 'ChatMessages',\n",
    "    Item={\n",
    "        'PK': {'S': primary_key},\n",
    "        'SK': {'S': 'TIMESTAMP#'+tstamp},\n",
    "        'message': {'S': 'Random message'},\n",
    "        'role': {'S': 'user'},\n",
    "        'metadata': {'M': {\n",
    "            'model': {'S': 'no_model'},\n",
    "            'source': {'S': 'test'},\n",
    "            'tokens': {'N': '40'},\n",
    "            'user_agent': {'S': 'python_sdk'}\n",
    "            }\n",
    "        } \n",
    "    }\n",
    ")"
   ]
  },
  {
   "cell_type": "markdown",
   "id": "58b17fee",
   "metadata": {},
   "source": [
    "OBVS: pendiente probar Deserializer y Serializer ( Conversion json a dynamo json y viceversa )\n",
    "\n",
    "25-06: Se prueba Serializer satisfactoriamente"
   ]
  },
  {
   "cell_type": "markdown",
   "id": "673354e1",
   "metadata": {},
   "source": [
    "## Prueba Serializer"
   ]
  },
  {
   "cell_type": "code",
   "execution_count": 54,
   "id": "7d3dbb35",
   "metadata": {},
   "outputs": [],
   "source": [
    "from boto3.dynamodb.types import TypeSerializer"
   ]
  },
  {
   "cell_type": "code",
   "execution_count": 55,
   "id": "4de170e2",
   "metadata": {},
   "outputs": [],
   "source": [
    "serializer = TypeSerializer()"
   ]
  },
  {
   "cell_type": "code",
   "execution_count": 33,
   "id": "acae4f77",
   "metadata": {},
   "outputs": [],
   "source": [
    "Item={\n",
    "        'PK': primary_key,\n",
    "        'SK': 'TIMESTAMP#'+tstamp,\n",
    "        'message': 'Random message 2',\n",
    "        'role': 'user',\n",
    "        'metadata': {\n",
    "            'model': 'no_model',\n",
    "            'source': 'test',\n",
    "            'tokens': '40',\n",
    "            'user_agent': 'python_sdk'\n",
    "            } \n",
    "    }"
   ]
  },
  {
   "cell_type": "code",
   "execution_count": 56,
   "id": "0e2ab3da",
   "metadata": {},
   "outputs": [],
   "source": [
    "serialized_item = {k: serializer.serialize(v) for k, v in Item.items()}"
   ]
  },
  {
   "cell_type": "code",
   "execution_count": 57,
   "id": "a1a71a10",
   "metadata": {},
   "outputs": [
    {
     "data": {
      "text/plain": [
       "{'PK': {'S': 'USER#f5865d6c-f972-43ea-8855-63d1aa7de3a6#CONV#295b06f1-a2d2-481e-a7de-96b9086a5935'},\n",
       " 'SK': {'S': 'TIMESTAMP#2025-06-24T17:13:06.075335Z'},\n",
       " 'message': {'S': 'Random message 2'},\n",
       " 'role': {'S': 'user'},\n",
       " 'metadata': {'M': {'model': {'S': 'no_model'},\n",
       "   'source': {'S': 'test'},\n",
       "   'tokens': {'S': '40'},\n",
       "   'user_agent': {'S': 'python_sdk'}}}}"
      ]
     },
     "execution_count": 57,
     "metadata": {},
     "output_type": "execute_result"
    }
   ],
   "source": [
    "serialized_item"
   ]
  },
  {
   "cell_type": "markdown",
   "id": "c084156a",
   "metadata": {},
   "source": [
    "## Read"
   ]
  },
  {
   "cell_type": "code",
   "execution_count": null,
   "id": "faa08ef4",
   "metadata": {},
   "outputs": [],
   "source": [
    "# obtenemos todos los mensajes de un usuario\n",
    "response = dynamodb.query(\n",
    "    TableName = 'ChatMessages',\n",
    "    KeyConditionExpression = 'PK = :pk_val',\n",
    "    #FilterExpression='#name = :name_val',\n",
    "    ExpressionAttributeValues = {\n",
    "        ':pk_val' : {'S' : 'USER#7d4a81fc-32cd-498a-b3d0-2f35a123be97#CONV#1c5a0cf3-a995-438a-9c7c-bd1271230dd7'}\n",
    "    }\n",
    "    # , ExpressionAttributeNames={\n",
    "    #     '#name': 'name',\n",
    "    # }\n",
    ")"
   ]
  },
  {
   "cell_type": "code",
   "execution_count": 50,
   "id": "41312266",
   "metadata": {},
   "outputs": [
    {
     "data": {
      "text/plain": [
       "{'Items': [{'metadata': {'M': {'model': {'S': 'no_model'},\n",
       "     'tokens': {'N': '40'},\n",
       "     'source': {'S': 'test'},\n",
       "     'user_agent': {'S': 'python_sdk'}}},\n",
       "   'SK': {'S': 'TIMESTAMP#2025-06-24T16:41:45.551716Z'},\n",
       "   'message': {'S': 'Random message'},\n",
       "   'PK': {'S': 'USER#7d4a81fc-32cd-498a-b3d0-2f35a123be97#CONV#1c5a0cf3-a995-438a-9c7c-bd1271230dd7'},\n",
       "   'role': {'S': 'user'}},\n",
       "  {'metadata': {'M': {'model': {'S': 'no_model'},\n",
       "     'tokens': {'N': '35'},\n",
       "     'source': {'S': 'test'},\n",
       "     'user_agent': {'S': 'python_sdk'}}},\n",
       "   'SK': {'S': 'TIMESTAMP#2025-06-24T17:41:45.551716Z'},\n",
       "   'message': {'S': 'Random response'},\n",
       "   'PK': {'S': 'USER#7d4a81fc-32cd-498a-b3d0-2f35a123be97#CONV#1c5a0cf3-a995-438a-9c7c-bd1271230dd7'},\n",
       "   'role': {'S': 'chatbot'}}],\n",
       " 'Count': 2,\n",
       " 'ScannedCount': 2,\n",
       " 'ResponseMetadata': {'RequestId': 'VFE6RQ2I2ENG2BC0PQBE38BD8VVV4KQNSO5AEMVJF66Q9ASUAAJG',\n",
       "  'HTTPStatusCode': 200,\n",
       "  'HTTPHeaders': {'server': 'Server',\n",
       "   'date': 'Tue, 24 Jun 2025 17:42:55 GMT',\n",
       "   'content-type': 'application/x-amz-json-1.0',\n",
       "   'content-length': '684',\n",
       "   'connection': 'keep-alive',\n",
       "   'x-amzn-requestid': 'VFE6RQ2I2ENG2BC0PQBE38BD8VVV4KQNSO5AEMVJF66Q9ASUAAJG',\n",
       "   'x-amz-crc32': '1731800393'},\n",
       "  'RetryAttempts': 0}}"
      ]
     },
     "execution_count": 50,
     "metadata": {},
     "output_type": "execute_result"
    }
   ],
   "source": [
    "response"
   ]
  },
  {
   "cell_type": "code",
   "execution_count": null,
   "id": "b9b03dc0",
   "metadata": {},
   "outputs": [
    {
     "name": "stdout",
     "output_type": "stream",
     "text": [
      "[{'role': 'user', 'message': 'Random message'}, {'role': 'chatbot', 'message': 'Random response'}]\n"
     ]
    }
   ],
   "source": [
    "# retrieving messages\n",
    "message_log = []\n",
    "for item in response['Items']:\n",
    "    message_entry = {\n",
    "        'role': item['role']['S'],\n",
    "        'message': item['message']['S']\n",
    "    }\n",
    "    message_log.append(message_entry)\n",
    "\n",
    "print(message_log)"
   ]
  },
  {
   "cell_type": "markdown",
   "id": "659300e7",
   "metadata": {},
   "source": [
    "# Testing Funciones Personalizadas"
   ]
  },
  {
   "cell_type": "code",
   "execution_count": 4,
   "id": "54c9989b",
   "metadata": {},
   "outputs": [],
   "source": [
    "from app.services import dynamodb_queries"
   ]
  },
  {
   "cell_type": "markdown",
   "id": "e450d1ee",
   "metadata": {},
   "source": [
    "## Obtencion de mensajes"
   ]
  },
  {
   "cell_type": "code",
   "execution_count": 8,
   "id": "2970f026",
   "metadata": {},
   "outputs": [],
   "source": [
    "response = dynamodb_queries.get_all_messages(dynamodb, 'USER#7d4a81fc-32cd-498a-b3d0-2f35a123be97#CONV#1c5a0cf3-a995-438a-9c7c-bd1271230dd7')"
   ]
  },
  {
   "cell_type": "code",
   "execution_count": 9,
   "id": "6a7d95e8",
   "metadata": {},
   "outputs": [
    {
     "data": {
      "text/plain": [
       "{'Items': [{'metadata': {'M': {'model': {'S': 'no_model'},\n",
       "     'tokens': {'N': '40'},\n",
       "     'source': {'S': 'test'},\n",
       "     'user_agent': {'S': 'python_sdk'}}},\n",
       "   'SK': {'S': 'TIMESTAMP#2025-06-24T16:41:45.551716Z'},\n",
       "   'message': {'S': 'Random message'},\n",
       "   'PK': {'S': 'USER#7d4a81fc-32cd-498a-b3d0-2f35a123be97#CONV#1c5a0cf3-a995-438a-9c7c-bd1271230dd7'},\n",
       "   'role': {'S': 'user'}},\n",
       "  {'metadata': {'M': {'model': {'S': 'no_model'},\n",
       "     'tokens': {'N': '35'},\n",
       "     'source': {'S': 'test'},\n",
       "     'user_agent': {'S': 'python_sdk'}}},\n",
       "   'SK': {'S': 'TIMESTAMP#2025-06-24T17:41:45.551716Z'},\n",
       "   'message': {'S': 'Random response'},\n",
       "   'PK': {'S': 'USER#7d4a81fc-32cd-498a-b3d0-2f35a123be97#CONV#1c5a0cf3-a995-438a-9c7c-bd1271230dd7'},\n",
       "   'role': {'S': 'assistant'}}],\n",
       " 'Count': 2,\n",
       " 'ScannedCount': 2,\n",
       " 'ResponseMetadata': {'RequestId': '64M0BPBTCFN6TBCVDMH1GFC8TBVV4KQNSO5AEMVJF66Q9ASUAAJG',\n",
       "  'HTTPStatusCode': 200,\n",
       "  'HTTPHeaders': {'server': 'Server',\n",
       "   'date': 'Tue, 24 Jun 2025 23:56:22 GMT',\n",
       "   'content-type': 'application/x-amz-json-1.0',\n",
       "   'content-length': '686',\n",
       "   'connection': 'keep-alive',\n",
       "   'x-amzn-requestid': '64M0BPBTCFN6TBCVDMH1GFC8TBVV4KQNSO5AEMVJF66Q9ASUAAJG',\n",
       "   'x-amz-crc32': '391293687'},\n",
       "  'RetryAttempts': 0}}"
      ]
     },
     "execution_count": 9,
     "metadata": {},
     "output_type": "execute_result"
    }
   ],
   "source": [
    "response"
   ]
  },
  {
   "cell_type": "markdown",
   "id": "bfcaa6fe",
   "metadata": {},
   "source": [
    "## Conversion a formato List[Dict] para contexto de Bedrock"
   ]
  },
  {
   "cell_type": "code",
   "execution_count": null,
   "id": "16711063",
   "metadata": {},
   "outputs": [
    {
     "name": "stdout",
     "output_type": "stream",
     "text": [
      "[{'role': 'user', 'content': [{'text': 'Random message'}]}, {'role': 'assistant', 'content': [{'text': 'Random response'}]}]\n"
     ]
    }
   ],
   "source": [
    "# Conver\n",
    "messages = dynamodb_queries.response_to_conversation(response)\n",
    "print(messages)"
   ]
  },
  {
   "cell_type": "markdown",
   "id": "409f5b41",
   "metadata": {},
   "source": [
    "## Prueba de la clase ChatMessage\n",
    "La clase ChatMessage se usa para Standarizar los tipos de mensaje "
   ]
  },
  {
   "cell_type": "code",
   "execution_count": 75,
   "id": "c7bbacf9",
   "metadata": {},
   "outputs": [
    {
     "data": {
      "text/plain": [
       "{'PK': 'USER#f5865d6c-f972-43ea-8855-63d1aa7de3a6#CONV#295b06f1-a2d2-481e-a7de-96b9086a5935',\n",
       " 'SK': 'TIMESTAMP#2025-06-24T17:13:06.075335Z',\n",
       " 'message': 'Random message 2',\n",
       " 'role': 'user',\n",
       " 'metadata': {'model': 'no_model',\n",
       "  'source': 'test',\n",
       "  'tokens': '40',\n",
       "  'user_agent': 'python_sdk'}}"
      ]
     },
     "execution_count": 75,
     "metadata": {},
     "output_type": "execute_result"
    }
   ],
   "source": [
    "Item"
   ]
  },
  {
   "cell_type": "code",
   "execution_count": 66,
   "id": "b90f3eb0",
   "metadata": {},
   "outputs": [],
   "source": [
    "data = dynamodb_queries.ChatMessage(**Item)"
   ]
  },
  {
   "cell_type": "code",
   "execution_count": 67,
   "id": "0a56fd83",
   "metadata": {},
   "outputs": [
    {
     "data": {
      "text/plain": [
       "ChatMessage(PK='USER#f5865d6c-f972-43ea-8855-63d1aa7de3a6#CONV#295b06f1-a2d2-481e-a7de-96b9086a5935', SK='TIMESTAMP#2025-06-24T17:13:06.075335Z', role='user', message='Random message 2', metadata={'model': 'no_model', 'source': 'test', 'tokens': '40', 'user_agent': 'python_sdk'})"
      ]
     },
     "execution_count": 67,
     "metadata": {},
     "output_type": "execute_result"
    }
   ],
   "source": [
    "data"
   ]
  },
  {
   "cell_type": "code",
   "execution_count": 77,
   "id": "51a30ee8",
   "metadata": {},
   "outputs": [],
   "source": [
    "# forcing data error\n",
    "Item_2 = {'PK': 'USER#f5865d6c-f972-43ea-8855-63d1aa7de3a6#CONV#295b06f1-a2d2-481e-a7de-96b9086a5935',\n",
    "            'SK': 'TIMESTAMP#2025-06-24T17:13:06.075335Z',\n",
    "            'message': 'Random message 2',\n",
    "            'role': 'user',\n",
    "            'metadata': 'error_test'\n",
    "            }\n"
   ]
  },
  {
   "cell_type": "code",
   "execution_count": 79,
   "id": "3a7f0fef",
   "metadata": {},
   "outputs": [
    {
     "name": "stdout",
     "output_type": "stream",
     "text": [
      "1 validation error for ChatMessage\n",
      "metadata\n",
      "  Input should be a valid dictionary [type=dict_type, input_value='error_test', input_type=str]\n",
      "    For further information visit https://errors.pydantic.dev/2.11/v/dict_type\n"
     ]
    }
   ],
   "source": [
    "try:\n",
    "    dynamodb_queries.ChatMessage(**Item_2)\n",
    "except Exception as e:\n",
    "    print(e)\n"
   ]
  },
  {
   "cell_type": "code",
   "execution_count": 74,
   "id": "545b3879",
   "metadata": {},
   "outputs": [],
   "source": [
    "serialized_data = dynamodb_queries.serialize_item(data)"
   ]
  },
  {
   "cell_type": "code",
   "execution_count": 80,
   "id": "8ef9e9b0",
   "metadata": {},
   "outputs": [
    {
     "data": {
      "text/plain": [
       "{'PK': {'S': 'USER#f5865d6c-f972-43ea-8855-63d1aa7de3a6#CONV#295b06f1-a2d2-481e-a7de-96b9086a5935'},\n",
       " 'SK': {'S': 'TIMESTAMP#2025-06-24T17:13:06.075335Z'},\n",
       " 'role': {'S': 'user'},\n",
       " 'message': {'S': 'Random message 2'},\n",
       " 'metadata': {'M': {'model': {'S': 'no_model'},\n",
       "   'source': {'S': 'test'},\n",
       "   'tokens': {'S': '40'},\n",
       "   'user_agent': {'S': 'python_sdk'}}}}"
      ]
     },
     "execution_count": 80,
     "metadata": {},
     "output_type": "execute_result"
    }
   ],
   "source": [
    "serialized_data"
   ]
  },
  {
   "cell_type": "code",
   "execution_count": null,
   "id": "775a325a",
   "metadata": {},
   "outputs": [],
   "source": [
    "# Prueba de escritura\n",
    "dynamodb_queries.write_message(dynamodb=dynamodb, table_name='ChatMessages', serialized_item=serialized_data)"
   ]
  },
  {
   "cell_type": "markdown",
   "id": "f6812baa",
   "metadata": {},
   "source": [
    "# DynamoDB metadata Test"
   ]
  },
  {
   "cell_type": "code",
   "execution_count": 5,
   "id": "02cffbb7",
   "metadata": {},
   "outputs": [],
   "source": [
    "from app.services.dynamodb_queries import get_latests_messages\n",
    "from app.services.chatbot_engine import format_conversation, format_conversation_2"
   ]
  },
  {
   "cell_type": "code",
   "execution_count": 6,
   "id": "a8b3205a",
   "metadata": {},
   "outputs": [],
   "source": [
    "response = get_latests_messages(dynamodb, \"USER#test_metadata_2#CONV#test_metadata_2\", 10)"
   ]
  },
  {
   "cell_type": "code",
   "execution_count": 7,
   "id": "01da11ec",
   "metadata": {},
   "outputs": [
    {
     "data": {
      "text/plain": [
       "{'Items': [{'metadata': {'M': {'attribute1': {'S': 'att1'},\n",
       "     'attribute2': {'S': 'att2'}}},\n",
       "   'SK': {'S': 'TIMESTAMP#2025-07-07T18:51:52.757243Z'},\n",
       "   'message': {'S': '¡Hola! Para ayudarte a encontrar la mejor opción inmobiliaria, considera tus necesidades: presupuesto, tamaño, ubicación y características deseadas. Investiga áreas con buena calidad de vida y transporte. Usa plataformas inmobiliarias para ver listados y compara precios. Si tienes dudas, no dudes en preguntar. ¡Estoy aquí para ayudarte a encontrar tu hogar ideal!'},\n",
       "   'PK': {'S': 'USER#test_metadata_2#CONV#test_metadata_2'},\n",
       "   'role': {'S': 'assistant'}},\n",
       "  {'metadata': {'M': {'attribute1': {'S': 'att1'},\n",
       "     'attribute2': {'S': 'att2'}}},\n",
       "   'SK': {'S': 'TIMESTAMP#2025-07-07T18:51:51.506991Z'},\n",
       "   'message': {'S': 'This is a test.'},\n",
       "   'PK': {'S': 'USER#test_metadata_2#CONV#test_metadata_2'},\n",
       "   'role': {'S': 'user'}}],\n",
       " 'Count': 2,\n",
       " 'ScannedCount': 2,\n",
       " 'ResponseMetadata': {'RequestId': '622LPT3KVQ3823VP40L6LPU6BBVV4KQNSO5AEMVJF66Q9ASUAAJG',\n",
       "  'HTTPStatusCode': 200,\n",
       "  'HTTPHeaders': {'server': 'Server',\n",
       "   'date': 'Mon, 07 Jul 2025 20:35:23 GMT',\n",
       "   'content-type': 'application/x-amz-json-1.0',\n",
       "   'content-length': '867',\n",
       "   'connection': 'keep-alive',\n",
       "   'x-amzn-requestid': '622LPT3KVQ3823VP40L6LPU6BBVV4KQNSO5AEMVJF66Q9ASUAAJG',\n",
       "   'x-amz-crc32': '2593897416'},\n",
       "  'RetryAttempts': 0}}"
      ]
     },
     "execution_count": 7,
     "metadata": {},
     "output_type": "execute_result"
    }
   ],
   "source": [
    "response"
   ]
  },
  {
   "cell_type": "code",
   "execution_count": 8,
   "id": "51878282",
   "metadata": {},
   "outputs": [],
   "source": [
    "from app.models.ChatMessage import ChatHistoryResponse, ChatHistoryElement"
   ]
  },
  {
   "cell_type": "code",
   "execution_count": 10,
   "id": "8877393d",
   "metadata": {},
   "outputs": [
    {
     "data": {
      "text/plain": [
       "[{'role': 'user', 'message': 'This is a test.'},\n",
       " {'role': 'assistant',\n",
       "  'message': '¡Hola! Para ayudarte a encontrar la mejor opción inmobiliaria, considera tus necesidades: presupuesto, tamaño, ubicación y características deseadas. Investiga áreas con buena calidad de vida y transporte. Usa plataformas inmobiliarias para ver listados y compara precios. Si tienes dudas, no dudes en preguntar. ¡Estoy aquí para ayudarte a encontrar tu hogar ideal!'}]"
      ]
     },
     "execution_count": 10,
     "metadata": {},
     "output_type": "execute_result"
    }
   ],
   "source": [
    "formatted_conversation = format_conversation(response, verbose=False)\n",
    "formatted_conversation"
   ]
  },
  {
   "cell_type": "code",
   "execution_count": 11,
   "id": "13122f35",
   "metadata": {},
   "outputs": [
    {
     "data": {
      "text/plain": [
       "ChatHistoryResponse(history=[ChatHistoryElement(role='user', message='This is a test.', SK=None, metadata=None), ChatHistoryElement(role='assistant', message='¡Hola! Para ayudarte a encontrar la mejor opción inmobiliaria, considera tus necesidades: presupuesto, tamaño, ubicación y características deseadas. Investiga áreas con buena calidad de vida y transporte. Usa plataformas inmobiliarias para ver listados y compara precios. Si tienes dudas, no dudes en preguntar. ¡Estoy aquí para ayudarte a encontrar tu hogar ideal!', SK=None, metadata=None)])"
      ]
     },
     "execution_count": 11,
     "metadata": {},
     "output_type": "execute_result"
    }
   ],
   "source": [
    "ChatHistoryResponse(history=formatted_conversation)"
   ]
  },
  {
   "cell_type": "code",
   "execution_count": 11,
   "id": "fe1be085",
   "metadata": {},
   "outputs": [],
   "source": [
    "from boto3.dynamodb.types import TypeDeserializer"
   ]
  },
  {
   "cell_type": "code",
   "execution_count": 12,
   "id": "58b7aa36",
   "metadata": {},
   "outputs": [],
   "source": [
    "deserializer = TypeDeserializer()\n",
    "item= response['Items'][0]\n",
    "deserializedItem = {\n",
    "        k: deserializer.deserialize(v) \n",
    "        for k, v in item.items()\n",
    "    }"
   ]
  },
  {
   "cell_type": "code",
   "execution_count": 14,
   "id": "77651420",
   "metadata": {},
   "outputs": [
    {
     "data": {
      "text/plain": [
       "'TIMESTAMP#2025-07-07T18:51:52.757243Z'"
      ]
     },
     "execution_count": 14,
     "metadata": {},
     "output_type": "execute_result"
    }
   ],
   "source": [
    "deserializedItem.pop('SK')"
   ]
  },
  {
   "cell_type": "code",
   "execution_count": 15,
   "id": "665c84ac",
   "metadata": {},
   "outputs": [
    {
     "data": {
      "text/plain": [
       "{'metadata': {'attribute1': 'att1', 'attribute2': 'att2'},\n",
       " 'message': '¡Hola! Para ayudarte a encontrar la mejor opción inmobiliaria, considera tus necesidades: presupuesto, tamaño, ubicación y características deseadas. Investiga áreas con buena calidad de vida y transporte. Usa plataformas inmobiliarias para ver listados y compara precios. Si tienes dudas, no dudes en preguntar. ¡Estoy aquí para ayudarte a encontrar tu hogar ideal!',\n",
       " 'PK': 'USER#test_metadata_2#CONV#test_metadata_2',\n",
       " 'role': 'assistant'}"
      ]
     },
     "execution_count": 15,
     "metadata": {},
     "output_type": "execute_result"
    }
   ],
   "source": [
    "deserializedItem"
   ]
  },
  {
   "cell_type": "code",
   "execution_count": 12,
   "id": "a9ff002c",
   "metadata": {},
   "outputs": [
    {
     "data": {
      "text/plain": [
       "ChatHistoryElement(role='user', message='This is a test.', SK=None, metadata=None)"
      ]
     },
     "execution_count": 12,
     "metadata": {},
     "output_type": "execute_result"
    }
   ],
   "source": [
    "history = format_conversation_2(response)\n",
    "history[0]"
   ]
  },
  {
   "cell_type": "code",
   "execution_count": 15,
   "id": "a6151d0a",
   "metadata": {},
   "outputs": [
    {
     "data": {
      "text/plain": [
       "[ChatHistoryElement(role='user', message='This is a test.', SK=None, metadata=None),\n",
       " ChatHistoryElement(role='assistant', message='¡Hola! Para ayudarte a encontrar la mejor opción inmobiliaria, considera tus necesidades: presupuesto, tamaño, ubicación y características deseadas. Investiga áreas con buena calidad de vida y transporte. Usa plataformas inmobiliarias para ver listados y compara precios. Si tienes dudas, no dudes en preguntar. ¡Estoy aquí para ayudarte a encontrar tu hogar ideal!', SK=None, metadata=None)]"
      ]
     },
     "execution_count": 15,
     "metadata": {},
     "output_type": "execute_result"
    }
   ],
   "source": [
    "history"
   ]
  },
  {
   "cell_type": "code",
   "execution_count": 16,
   "id": "a4199b68",
   "metadata": {},
   "outputs": [
    {
     "data": {
      "text/plain": [
       "ChatHistoryResponse(history=[ChatHistoryElement(role='user', message='This is a test.', SK=None, metadata=None), ChatHistoryElement(role='assistant', message='¡Hola! Para ayudarte a encontrar la mejor opción inmobiliaria, considera tus necesidades: presupuesto, tamaño, ubicación y características deseadas. Investiga áreas con buena calidad de vida y transporte. Usa plataformas inmobiliarias para ver listados y compara precios. Si tienes dudas, no dudes en preguntar. ¡Estoy aquí para ayudarte a encontrar tu hogar ideal!', SK=None, metadata=None)])"
      ]
     },
     "execution_count": 16,
     "metadata": {},
     "output_type": "execute_result"
    }
   ],
   "source": [
    "ChatHistoryResponse(history=history)"
   ]
  },
  {
   "cell_type": "code",
   "execution_count": null,
   "id": "fe9ba963",
   "metadata": {},
   "outputs": [],
   "source": []
  }
 ],
 "metadata": {
  "kernelspec": {
   "display_name": "ia-env",
   "language": "python",
   "name": "python3"
  },
  "language_info": {
   "codemirror_mode": {
    "name": "ipython",
    "version": 3
   },
   "file_extension": ".py",
   "mimetype": "text/x-python",
   "name": "python",
   "nbconvert_exporter": "python",
   "pygments_lexer": "ipython3",
   "version": "3.10.11"
  }
 },
 "nbformat": 4,
 "nbformat_minor": 5
}
