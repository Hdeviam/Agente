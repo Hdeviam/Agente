{
 "cells": [
  {
   "cell_type": "code",
   "execution_count": 1,
   "id": "2588fea8",
   "metadata": {},
   "outputs": [],
   "source": [
    "import os\n",
    "import sys\n",
    "project_root = os.path.abspath(os.path.join(os.getcwd(), '..'))\n",
    "sys.path.append(project_root)\n",
    "from app.services.chatbot_engine import proccess_chat_turn"
   ]
  },
  {
   "cell_type": "code",
   "execution_count": 2,
   "id": "2c27b255",
   "metadata": {},
   "outputs": [
    {
     "data": {
      "text/plain": [
       "'f:\\\\DataScience\\\\Group Projects\\\\Housy\\\\housy-ia\\\\IA'"
      ]
     },
     "execution_count": 2,
     "metadata": {},
     "output_type": "execute_result"
    }
   ],
   "source": [
    "project_root"
   ]
  },
  {
   "cell_type": "code",
   "execution_count": 2,
   "id": "4b7ad79a",
   "metadata": {},
   "outputs": [],
   "source": [
    "user_id= '7d4a81fc-32cd-498a-b3d0-2f35a123be97'\n",
    "conv_id = '1c5a0cf3-a995-438a-9c7c-bd1271230dd7'\n",
    "primary_key = \"USER#\"+user_id +\"#CONV#\" + conv_id #primari key para la base de datos dynamodb"
   ]
  },
  {
   "cell_type": "markdown",
   "id": "52854693",
   "metadata": {},
   "source": [
    "# Conversation Simulation"
   ]
  },
  {
   "cell_type": "code",
   "execution_count": 3,
   "id": "9409919d",
   "metadata": {},
   "outputs": [],
   "source": [
    "from app.services.dynamodb_queries import get_latests_messages, response_to_conversation, get_all_messages\n",
    "from app.core.aws_clients import get_dynamodb_client"
   ]
  },
  {
   "cell_type": "code",
   "execution_count": 6,
   "id": "7e7320e0",
   "metadata": {},
   "outputs": [
    {
     "name": "stdout",
     "output_type": "stream",
     "text": [
      "assistant: En Miraflores, te recomiendo explorar zonas como \"El Polo\" o \"La Molina\". \"El Polo\" es conocido por su tranquilidad y proximidad a parques. \"La Molina\" ofrece un ambiente más residencial y tranquilo, con buenas opciones de restaurantes y servicios locales. Ambas áreas son seguras y tienen buena conectividad.\n",
      "user: Y que deberia considerar al mudarme a estas zonas ? \n",
      "assistant: Al mudarte a estas zonas en Miraflores, considera la seguridad, acceso a servicios como escuelas y tiendas, y la calidad de vida. Verifica la conectividad con tu trabajo y áreas de interés. También, evalúa el costo de vida y las opciones de transporte público. Visita las áreas durante diferentes horarios para sentir el ambiente real. Esto te ayudará a tomar una decisión informada.\n",
      "user: Gracias. Por que medio puedo informarme de departamentos en alquiler en esta zona?\n",
      "assistant: Para informarte sobre departamentos en alquiler en Miraflores, puedes usar plataformas en línea como OLX, Habitaclia, o portales de inmobiliarias locales. También, considera visitar agencias inmobiliarias en la zona para obtener opciones más actualizadas y asesoramiento personalizado. No olvides revisar las reseñas de otros inquilinos para una mejor evaluación.\n",
      "user: Gracias. Probaré estas páginas.\n",
      "assistant: ¡De nada! Si necesitas más ayuda o tienes alguna otra pregunta sobre tu mudanza o cualquier otro tema, no dudes en preguntar. ¡Buena suerte en tu búsqueda y espero que encuentres tu hogar ideal en Miraflores!\n",
      "end\n"
     ]
    }
   ],
   "source": [
    "dynamodb = get_dynamodb_client()\n",
    "conversation = get_latests_messages(dynamodb, primary_key, limit=5)\n",
    "\n",
    "for item in conversation['Items'][::-1]:\n",
    "    text = item['message']['S']\n",
    "    role = item['role']['S']\n",
    "    print(role + \": \" + text)\n",
    "\n",
    "\n",
    "while True:\n",
    "    message_input = input(\"Mensaje: \")\n",
    "    if message_input == 'q' or message_input=='':\n",
    "        break\n",
    "    print('user: ' + message_input)\n",
    "    response = proccess_chat_turn(user_id, conv_id, message_input)\n",
    "    print('assistant: '+ response)\n",
    "\n",
    "print('end')"
   ]
  }
 ],
 "metadata": {
  "kernelspec": {
   "display_name": "ia-env",
   "language": "python",
   "name": "python3"
  },
  "language_info": {
   "codemirror_mode": {
    "name": "ipython",
    "version": 3
   },
   "file_extension": ".py",
   "mimetype": "text/x-python",
   "name": "python",
   "nbconvert_exporter": "python",
   "pygments_lexer": "ipython3",
   "version": "3.10.11"
  }
 },
 "nbformat": 4,
 "nbformat_minor": 5
}
